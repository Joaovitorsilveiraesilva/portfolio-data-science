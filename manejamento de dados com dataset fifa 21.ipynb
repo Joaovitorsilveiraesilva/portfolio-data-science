{
 "cells": [
  {
   "cell_type": "markdown",
   "id": "62bfdabf",
   "metadata": {},
   "source": [
    "# manejamento de dados com dataset fifa 21"
   ]
  },
  {
   "cell_type": "markdown",
   "id": "4fc75b39",
   "metadata": {},
   "source": [
    "Esse trabalho tem como intuito a exploração e o manejamento de variáveis e dataframes.\n",
    "\n",
    "## Lendo e escolhendo as variáveis:\n",
    "Nesta fase do trabalho, foram importadas as bibliotecas necessárias, os dados foram carregados e o número de colunas foi verificado. Em seguida, foram selecionadas algumas variáveis que foram consideradas as mais importantes para fins de síntese. As variáveis escolhidas foram: nome, nome_completo, idade, data de nascimento, altura, peso, nacionalidade, clube, nome da liga e posição no ranking da liga.\n",
    "## Propriedades do dataframe:\n",
    "Na segunda parte, foram verificados os tipos de dados (dtypes) para garantir sua correção e a presença de valores ausentes. Optou-se por manter os valores ausentes neste caso.\n",
    "## Criação de novas colunas:\n",
    "Na terceira etapa, foram criadas 4 novas colunas utilizando informações completas de data de nascimento. A função split foi utilizada para separar os valores da data de nascimento e criar as colunas ano, dia e mês de nascimento. Além disso, com a informação de que o conjunto de dados é de 2021, foi possível calcular a idade dos jogadores. Utilizando a idade dos jogadores, foi gerado um gráfico boxplot para identificar a faixa etária em que a maioria dos jogadores se encontra, constatando-se que a maioria está na faixa etária entre 27 e 33 anos.\n",
    "## Em quais países existe a concentração de maiores jogadores?\n",
    "Nesta seção, foi utilizada outra fonte de dados para associar a nacionalidade de cada jogador ao seu respectivo continente e código alpha-3, utilizando a função map. Posteriormente, a função value_counts foi empregada para recuperar o número de jogadores por nacionalidade e os resultados foram plotados em um mapa mundi, revelando que as regiões próximas à Inglaterra concentram a maioria dos jogadores. Em seguida, a função groupby e agg foram utilizadas para calcular a porcentagem de jogadores por continente, constatando-se que mais de 50% dos jogadores estão na Europa, mais de 25% nas Américas, enquanto a Oceania, África e Ásia têm uma participação muito pequena.\n",
    "\n",
    "## Média de altura dos jogadores X média de altura da população em geral?\n",
    "Na última parte, foram utilizados dados de altura da população masculina de cada país para determinar se os jogadores são mais altos, em média, do que a população em geral. Segundo os dados analisados, os jogadores têm, em média, 5 cm a mais do que a população em geral."
   ]
  },
  {
   "cell_type": "markdown",
   "id": "50e73bad",
   "metadata": {},
   "source": [
    "# Dados:\n",
    "O dataset principal foi retirado do site Kaggle com o nome \"FIFA 21 complete player dataset\". As bases de dados dispõem sobre os jogadores para o Modo Carreira do FIFA 21.\n",
    "\n",
    "O segundo dataset, chamado \"Country Mapping - ISO, Continent, Region\", serviu para mapear os continentes e códigos ISO com cada país, também foi retirado do site Kaggle.\n",
    "\n",
    "O terceiro dataset dispõe sobre a altura da população masculina em média, foi retirado do site WorldData e serviu para descobrir se os jogadores são mais altos que a população em geral."
   ]
  },
  {
   "cell_type": "markdown",
   "id": "3d8da776",
   "metadata": {},
   "source": [
    "# Lendo e escolhendo as variáveis"
   ]
  },
  {
   "cell_type": "code",
   "execution_count": 58,
   "id": "e0b65b61",
   "metadata": {},
   "outputs": [],
   "source": [
    "import pandas as pd\n",
    "import numpy as np\n",
    "import warnings\n",
    "import seaborn as sns\n",
    "warnings.filterwarnings('ignore')\n",
    "import matplotlib as mpl\n",
    "import matplotlib.pyplot as plt\n",
    "mpl.rc('axes', labelsize=14)\n",
    "mpl.rc('xtick', labelsize=12)\n",
    "mpl.rc('ytick', labelsize=12)\n",
    "%matplotlib inline\n",
    "import plotly.graph_objects as go\n",
    "from IPython.display import Image"
   ]
  },
  {
   "cell_type": "code",
   "execution_count": 59,
   "id": "9be26562",
   "metadata": {},
   "outputs": [],
   "source": [
    "data = pd.read_excel(r\"C:\\Users\\joao\\Desktop\\modelos\\fifa21\\Career Mode player datasets - FIFA 15-21.xlsx\")"
   ]
  },
  {
   "cell_type": "code",
   "execution_count": 60,
   "id": "218696fa",
   "metadata": {},
   "outputs": [
    {
     "data": {
      "text/html": [
       "<div>\n",
       "<style scoped>\n",
       "    .dataframe tbody tr th:only-of-type {\n",
       "        vertical-align: middle;\n",
       "    }\n",
       "\n",
       "    .dataframe tbody tr th {\n",
       "        vertical-align: top;\n",
       "    }\n",
       "\n",
       "    .dataframe thead th {\n",
       "        text-align: right;\n",
       "    }\n",
       "</style>\n",
       "<table border=\"1\" class=\"dataframe\">\n",
       "  <thead>\n",
       "    <tr style=\"text-align: right;\">\n",
       "      <th></th>\n",
       "      <th>sofifa_id</th>\n",
       "      <th>player_url</th>\n",
       "      <th>short_name</th>\n",
       "      <th>long_name</th>\n",
       "      <th>age</th>\n",
       "      <th>dob</th>\n",
       "      <th>height_cm</th>\n",
       "      <th>weight_kg</th>\n",
       "      <th>nationality</th>\n",
       "      <th>club_name</th>\n",
       "      <th>...</th>\n",
       "      <th>lwb</th>\n",
       "      <th>ldm</th>\n",
       "      <th>cdm</th>\n",
       "      <th>rdm</th>\n",
       "      <th>rwb</th>\n",
       "      <th>lb</th>\n",
       "      <th>lcb</th>\n",
       "      <th>cb</th>\n",
       "      <th>rcb</th>\n",
       "      <th>rb</th>\n",
       "    </tr>\n",
       "  </thead>\n",
       "  <tbody>\n",
       "    <tr>\n",
       "      <th>0</th>\n",
       "      <td>158023</td>\n",
       "      <td>https://sofifa.com/player/158023/lionel-messi/...</td>\n",
       "      <td>L. Messi</td>\n",
       "      <td>Lionel Andrés Messi Cuccittini</td>\n",
       "      <td>27</td>\n",
       "      <td>1987-06-24</td>\n",
       "      <td>169</td>\n",
       "      <td>67</td>\n",
       "      <td>Argentina</td>\n",
       "      <td>FC Barcelona</td>\n",
       "      <td>...</td>\n",
       "      <td>62+3</td>\n",
       "      <td>62+3</td>\n",
       "      <td>62+3</td>\n",
       "      <td>62+3</td>\n",
       "      <td>62+3</td>\n",
       "      <td>54+3</td>\n",
       "      <td>45+3</td>\n",
       "      <td>45+3</td>\n",
       "      <td>45+3</td>\n",
       "      <td>54+3</td>\n",
       "    </tr>\n",
       "    <tr>\n",
       "      <th>1</th>\n",
       "      <td>20801</td>\n",
       "      <td>https://sofifa.com/player/20801/c-ronaldo-dos-...</td>\n",
       "      <td>Cristiano Ronaldo</td>\n",
       "      <td>Cristiano Ronaldo dos Santos Aveiro</td>\n",
       "      <td>29</td>\n",
       "      <td>1985-02-05</td>\n",
       "      <td>185</td>\n",
       "      <td>80</td>\n",
       "      <td>Portugal</td>\n",
       "      <td>Real Madrid</td>\n",
       "      <td>...</td>\n",
       "      <td>63+3</td>\n",
       "      <td>63+3</td>\n",
       "      <td>63+3</td>\n",
       "      <td>63+3</td>\n",
       "      <td>63+3</td>\n",
       "      <td>57+3</td>\n",
       "      <td>52+3</td>\n",
       "      <td>52+3</td>\n",
       "      <td>52+3</td>\n",
       "      <td>57+3</td>\n",
       "    </tr>\n",
       "    <tr>\n",
       "      <th>2</th>\n",
       "      <td>9014</td>\n",
       "      <td>https://sofifa.com/player/9014/arjen-robben/15...</td>\n",
       "      <td>A. Robben</td>\n",
       "      <td>Arjen Robben</td>\n",
       "      <td>30</td>\n",
       "      <td>1984-01-23</td>\n",
       "      <td>180</td>\n",
       "      <td>80</td>\n",
       "      <td>Netherlands</td>\n",
       "      <td>FC Bayern München</td>\n",
       "      <td>...</td>\n",
       "      <td>64+3</td>\n",
       "      <td>64+3</td>\n",
       "      <td>64+3</td>\n",
       "      <td>64+3</td>\n",
       "      <td>64+3</td>\n",
       "      <td>55+3</td>\n",
       "      <td>46+3</td>\n",
       "      <td>46+3</td>\n",
       "      <td>46+3</td>\n",
       "      <td>55+3</td>\n",
       "    </tr>\n",
       "    <tr>\n",
       "      <th>3</th>\n",
       "      <td>41236</td>\n",
       "      <td>https://sofifa.com/player/41236/zlatan-ibrahim...</td>\n",
       "      <td>Z. Ibrahimović</td>\n",
       "      <td>Zlatan Ibrahimović</td>\n",
       "      <td>32</td>\n",
       "      <td>1981-10-03</td>\n",
       "      <td>195</td>\n",
       "      <td>95</td>\n",
       "      <td>Sweden</td>\n",
       "      <td>Paris Saint-Germain</td>\n",
       "      <td>...</td>\n",
       "      <td>61+3</td>\n",
       "      <td>65+3</td>\n",
       "      <td>65+3</td>\n",
       "      <td>65+3</td>\n",
       "      <td>61+3</td>\n",
       "      <td>56+3</td>\n",
       "      <td>55+3</td>\n",
       "      <td>55+3</td>\n",
       "      <td>55+3</td>\n",
       "      <td>56+3</td>\n",
       "    </tr>\n",
       "    <tr>\n",
       "      <th>4</th>\n",
       "      <td>167495</td>\n",
       "      <td>https://sofifa.com/player/167495/manuel-neuer/...</td>\n",
       "      <td>M. Neuer</td>\n",
       "      <td>Manuel Neuer</td>\n",
       "      <td>28</td>\n",
       "      <td>1986-03-27</td>\n",
       "      <td>193</td>\n",
       "      <td>92</td>\n",
       "      <td>Germany</td>\n",
       "      <td>FC Bayern München</td>\n",
       "      <td>...</td>\n",
       "      <td>36+3</td>\n",
       "      <td>40+3</td>\n",
       "      <td>40+3</td>\n",
       "      <td>40+3</td>\n",
       "      <td>36+3</td>\n",
       "      <td>36+3</td>\n",
       "      <td>38+3</td>\n",
       "      <td>38+3</td>\n",
       "      <td>38+3</td>\n",
       "      <td>36+3</td>\n",
       "    </tr>\n",
       "  </tbody>\n",
       "</table>\n",
       "<p>5 rows × 106 columns</p>\n",
       "</div>"
      ],
      "text/plain": [
       "   sofifa_id                                         player_url  \\\n",
       "0     158023  https://sofifa.com/player/158023/lionel-messi/...   \n",
       "1      20801  https://sofifa.com/player/20801/c-ronaldo-dos-...   \n",
       "2       9014  https://sofifa.com/player/9014/arjen-robben/15...   \n",
       "3      41236  https://sofifa.com/player/41236/zlatan-ibrahim...   \n",
       "4     167495  https://sofifa.com/player/167495/manuel-neuer/...   \n",
       "\n",
       "          short_name                            long_name  age        dob  \\\n",
       "0           L. Messi       Lionel Andrés Messi Cuccittini   27 1987-06-24   \n",
       "1  Cristiano Ronaldo  Cristiano Ronaldo dos Santos Aveiro   29 1985-02-05   \n",
       "2          A. Robben                         Arjen Robben   30 1984-01-23   \n",
       "3     Z. Ibrahimović                   Zlatan Ibrahimović   32 1981-10-03   \n",
       "4           M. Neuer                         Manuel Neuer   28 1986-03-27   \n",
       "\n",
       "   height_cm  weight_kg  nationality            club_name  ...   lwb   ldm  \\\n",
       "0        169         67    Argentina         FC Barcelona  ...  62+3  62+3   \n",
       "1        185         80     Portugal          Real Madrid  ...  63+3  63+3   \n",
       "2        180         80  Netherlands    FC Bayern München  ...  64+3  64+3   \n",
       "3        195         95       Sweden  Paris Saint-Germain  ...  61+3  65+3   \n",
       "4        193         92      Germany    FC Bayern München  ...  36+3  40+3   \n",
       "\n",
       "    cdm   rdm   rwb    lb   lcb    cb   rcb    rb  \n",
       "0  62+3  62+3  62+3  54+3  45+3  45+3  45+3  54+3  \n",
       "1  63+3  63+3  63+3  57+3  52+3  52+3  52+3  57+3  \n",
       "2  64+3  64+3  64+3  55+3  46+3  46+3  46+3  55+3  \n",
       "3  65+3  65+3  61+3  56+3  55+3  55+3  55+3  56+3  \n",
       "4  40+3  40+3  36+3  36+3  38+3  38+3  38+3  36+3  \n",
       "\n",
       "[5 rows x 106 columns]"
      ]
     },
     "execution_count": 60,
     "metadata": {},
     "output_type": "execute_result"
    }
   ],
   "source": [
    "data.head()"
   ]
  },
  {
   "cell_type": "code",
   "execution_count": 61,
   "id": "7aec451b",
   "metadata": {},
   "outputs": [
    {
     "data": {
      "text/plain": [
       "Index(['sofifa_id', 'player_url', 'short_name', 'long_name', 'age', 'dob',\n",
       "       'height_cm', 'weight_kg', 'nationality', 'club_name', 'league_name',\n",
       "       'league_rank', 'overall', 'potential', 'value_eur', 'wage_eur',\n",
       "       'player_positions', 'preferred_foot', 'international_reputation',\n",
       "       'weak_foot', 'skill_moves', 'work_rate', 'body_type', 'real_face',\n",
       "       'release_clause_eur', 'player_tags', 'team_position',\n",
       "       'team_jersey_number', 'loaned_from', 'joined', 'contract_valid_until',\n",
       "       'nation_position', 'nation_jersey_number', 'pace', 'shooting',\n",
       "       'passing', 'dribbling', 'defending', 'physic', 'gk_diving',\n",
       "       'gk_handling', 'gk_kicking', 'gk_reflexes', 'gk_speed',\n",
       "       'gk_positioning', 'player_traits', 'attacking_crossing',\n",
       "       'attacking_finishing', 'attacking_heading_accuracy',\n",
       "       'attacking_short_passing', 'attacking_volleys', 'skill_dribbling',\n",
       "       'skill_curve', 'skill_fk_accuracy', 'skill_long_passing',\n",
       "       'skill_ball_control', 'movement_acceleration', 'movement_sprint_speed',\n",
       "       'movement_agility', 'movement_reactions'],\n",
       "      dtype='object')"
      ]
     },
     "execution_count": 61,
     "metadata": {},
     "output_type": "execute_result"
    }
   ],
   "source": [
    "data.columns[:60]"
   ]
  },
  {
   "cell_type": "code",
   "execution_count": null,
   "id": "7afd6077",
   "metadata": {},
   "outputs": [],
   "source": []
  },
  {
   "cell_type": "markdown",
   "id": "725a885c",
   "metadata": {},
   "source": [
    "O dataframe possui 106 colunas. Por preferência e síntese, irei utilizar apenas algumas e chamarei o novo dataframe com essas colunas de 'dataresumo'."
   ]
  },
  {
   "cell_type": "code",
   "execution_count": null,
   "id": "fe8875af",
   "metadata": {},
   "outputs": [],
   "source": []
  },
  {
   "cell_type": "code",
   "execution_count": 62,
   "id": "b7571882",
   "metadata": {},
   "outputs": [],
   "source": [
    "dataresumo = data[['short_name', 'long_name', 'age', 'dob', 'height_cm', 'weight_kg', 'nationality', 'club_name', 'league_name', 'league_rank']]"
   ]
  },
  {
   "cell_type": "code",
   "execution_count": 63,
   "id": "330e842d",
   "metadata": {
    "scrolled": false
   },
   "outputs": [
    {
     "data": {
      "text/html": [
       "<div>\n",
       "<style scoped>\n",
       "    .dataframe tbody tr th:only-of-type {\n",
       "        vertical-align: middle;\n",
       "    }\n",
       "\n",
       "    .dataframe tbody tr th {\n",
       "        vertical-align: top;\n",
       "    }\n",
       "\n",
       "    .dataframe thead th {\n",
       "        text-align: right;\n",
       "    }\n",
       "</style>\n",
       "<table border=\"1\" class=\"dataframe\">\n",
       "  <thead>\n",
       "    <tr style=\"text-align: right;\">\n",
       "      <th></th>\n",
       "      <th>short_name</th>\n",
       "      <th>long_name</th>\n",
       "      <th>age</th>\n",
       "      <th>dob</th>\n",
       "      <th>height_cm</th>\n",
       "      <th>weight_kg</th>\n",
       "      <th>nationality</th>\n",
       "      <th>club_name</th>\n",
       "      <th>league_name</th>\n",
       "      <th>league_rank</th>\n",
       "    </tr>\n",
       "  </thead>\n",
       "  <tbody>\n",
       "    <tr>\n",
       "      <th>0</th>\n",
       "      <td>L. Messi</td>\n",
       "      <td>Lionel Andrés Messi Cuccittini</td>\n",
       "      <td>27</td>\n",
       "      <td>1987-06-24</td>\n",
       "      <td>169</td>\n",
       "      <td>67</td>\n",
       "      <td>Argentina</td>\n",
       "      <td>FC Barcelona</td>\n",
       "      <td>Spain Primera Division</td>\n",
       "      <td>1.0</td>\n",
       "    </tr>\n",
       "    <tr>\n",
       "      <th>1</th>\n",
       "      <td>Cristiano Ronaldo</td>\n",
       "      <td>Cristiano Ronaldo dos Santos Aveiro</td>\n",
       "      <td>29</td>\n",
       "      <td>1985-02-05</td>\n",
       "      <td>185</td>\n",
       "      <td>80</td>\n",
       "      <td>Portugal</td>\n",
       "      <td>Real Madrid</td>\n",
       "      <td>Spain Primera Division</td>\n",
       "      <td>1.0</td>\n",
       "    </tr>\n",
       "    <tr>\n",
       "      <th>2</th>\n",
       "      <td>A. Robben</td>\n",
       "      <td>Arjen Robben</td>\n",
       "      <td>30</td>\n",
       "      <td>1984-01-23</td>\n",
       "      <td>180</td>\n",
       "      <td>80</td>\n",
       "      <td>Netherlands</td>\n",
       "      <td>FC Bayern München</td>\n",
       "      <td>German 1. Bundesliga</td>\n",
       "      <td>1.0</td>\n",
       "    </tr>\n",
       "    <tr>\n",
       "      <th>3</th>\n",
       "      <td>Z. Ibrahimović</td>\n",
       "      <td>Zlatan Ibrahimović</td>\n",
       "      <td>32</td>\n",
       "      <td>1981-10-03</td>\n",
       "      <td>195</td>\n",
       "      <td>95</td>\n",
       "      <td>Sweden</td>\n",
       "      <td>Paris Saint-Germain</td>\n",
       "      <td>French Ligue 1</td>\n",
       "      <td>1.0</td>\n",
       "    </tr>\n",
       "    <tr>\n",
       "      <th>4</th>\n",
       "      <td>M. Neuer</td>\n",
       "      <td>Manuel Neuer</td>\n",
       "      <td>28</td>\n",
       "      <td>1986-03-27</td>\n",
       "      <td>193</td>\n",
       "      <td>92</td>\n",
       "      <td>Germany</td>\n",
       "      <td>FC Bayern München</td>\n",
       "      <td>German 1. Bundesliga</td>\n",
       "      <td>1.0</td>\n",
       "    </tr>\n",
       "    <tr>\n",
       "      <th>...</th>\n",
       "      <td>...</td>\n",
       "      <td>...</td>\n",
       "      <td>...</td>\n",
       "      <td>...</td>\n",
       "      <td>...</td>\n",
       "      <td>...</td>\n",
       "      <td>...</td>\n",
       "      <td>...</td>\n",
       "      <td>...</td>\n",
       "      <td>...</td>\n",
       "    </tr>\n",
       "    <tr>\n",
       "      <th>16150</th>\n",
       "      <td>E. Redman</td>\n",
       "      <td>Ellis Redman</td>\n",
       "      <td>17</td>\n",
       "      <td>1996-09-26</td>\n",
       "      <td>187</td>\n",
       "      <td>81</td>\n",
       "      <td>Wales</td>\n",
       "      <td>Newport County</td>\n",
       "      <td>English League Two</td>\n",
       "      <td>4.0</td>\n",
       "    </tr>\n",
       "    <tr>\n",
       "      <th>16151</th>\n",
       "      <td>A. Collins</td>\n",
       "      <td>Aaron Collins</td>\n",
       "      <td>17</td>\n",
       "      <td>1997-06-01</td>\n",
       "      <td>178</td>\n",
       "      <td>57</td>\n",
       "      <td>Wales</td>\n",
       "      <td>Newport County</td>\n",
       "      <td>English League Two</td>\n",
       "      <td>4.0</td>\n",
       "    </tr>\n",
       "    <tr>\n",
       "      <th>16152</th>\n",
       "      <td>P. Żemło</td>\n",
       "      <td>Piotr Żemło</td>\n",
       "      <td>18</td>\n",
       "      <td>1995-07-10</td>\n",
       "      <td>190</td>\n",
       "      <td>76</td>\n",
       "      <td>Poland</td>\n",
       "      <td>Wisła Kraków</td>\n",
       "      <td>Polish T-Mobile Ekstraklasa</td>\n",
       "      <td>1.0</td>\n",
       "    </tr>\n",
       "    <tr>\n",
       "      <th>16153</th>\n",
       "      <td>T. Davies</td>\n",
       "      <td>Tom Davies</td>\n",
       "      <td>22</td>\n",
       "      <td>1992-04-18</td>\n",
       "      <td>180</td>\n",
       "      <td>70</td>\n",
       "      <td>England</td>\n",
       "      <td>Fleetwood Town</td>\n",
       "      <td>English League One</td>\n",
       "      <td>3.0</td>\n",
       "    </tr>\n",
       "    <tr>\n",
       "      <th>16154</th>\n",
       "      <td>P. Tisdale</td>\n",
       "      <td>Paul Tisdale</td>\n",
       "      <td>41</td>\n",
       "      <td>1973-01-14</td>\n",
       "      <td>175</td>\n",
       "      <td>72</td>\n",
       "      <td>Malta</td>\n",
       "      <td>Exeter City</td>\n",
       "      <td>English League Two</td>\n",
       "      <td>4.0</td>\n",
       "    </tr>\n",
       "  </tbody>\n",
       "</table>\n",
       "<p>16155 rows × 10 columns</p>\n",
       "</div>"
      ],
      "text/plain": [
       "              short_name                            long_name  age        dob  \\\n",
       "0               L. Messi       Lionel Andrés Messi Cuccittini   27 1987-06-24   \n",
       "1      Cristiano Ronaldo  Cristiano Ronaldo dos Santos Aveiro   29 1985-02-05   \n",
       "2              A. Robben                         Arjen Robben   30 1984-01-23   \n",
       "3         Z. Ibrahimović                   Zlatan Ibrahimović   32 1981-10-03   \n",
       "4               M. Neuer                         Manuel Neuer   28 1986-03-27   \n",
       "...                  ...                                  ...  ...        ...   \n",
       "16150          E. Redman                         Ellis Redman   17 1996-09-26   \n",
       "16151         A. Collins                        Aaron Collins   17 1997-06-01   \n",
       "16152           P. Żemło                          Piotr Żemło   18 1995-07-10   \n",
       "16153          T. Davies                           Tom Davies   22 1992-04-18   \n",
       "16154         P. Tisdale                         Paul Tisdale   41 1973-01-14   \n",
       "\n",
       "       height_cm  weight_kg  nationality            club_name  \\\n",
       "0            169         67    Argentina         FC Barcelona   \n",
       "1            185         80     Portugal          Real Madrid   \n",
       "2            180         80  Netherlands    FC Bayern München   \n",
       "3            195         95       Sweden  Paris Saint-Germain   \n",
       "4            193         92      Germany    FC Bayern München   \n",
       "...          ...        ...          ...                  ...   \n",
       "16150        187         81        Wales       Newport County   \n",
       "16151        178         57        Wales       Newport County   \n",
       "16152        190         76       Poland         Wisła Kraków   \n",
       "16153        180         70      England       Fleetwood Town   \n",
       "16154        175         72        Malta          Exeter City   \n",
       "\n",
       "                       league_name  league_rank  \n",
       "0           Spain Primera Division          1.0  \n",
       "1           Spain Primera Division          1.0  \n",
       "2             German 1. Bundesliga          1.0  \n",
       "3                   French Ligue 1          1.0  \n",
       "4             German 1. Bundesliga          1.0  \n",
       "...                            ...          ...  \n",
       "16150           English League Two          4.0  \n",
       "16151           English League Two          4.0  \n",
       "16152  Polish T-Mobile Ekstraklasa          1.0  \n",
       "16153           English League One          3.0  \n",
       "16154           English League Two          4.0  \n",
       "\n",
       "[16155 rows x 10 columns]"
      ]
     },
     "execution_count": 63,
     "metadata": {},
     "output_type": "execute_result"
    }
   ],
   "source": [
    "dataresumo"
   ]
  },
  {
   "cell_type": "code",
   "execution_count": null,
   "id": "178392e3",
   "metadata": {},
   "outputs": [],
   "source": []
  },
  {
   "cell_type": "markdown",
   "id": "720a9df5",
   "metadata": {},
   "source": [
    "Irei mudar o nome das colunas para ficarem mais legíveis."
   ]
  },
  {
   "cell_type": "code",
   "execution_count": null,
   "id": "50890016",
   "metadata": {},
   "outputs": [],
   "source": []
  },
  {
   "cell_type": "code",
   "execution_count": 64,
   "id": "69a86565",
   "metadata": {},
   "outputs": [],
   "source": [
    "colunas = ['nome' , 'nome_completo' , 'idade' , 'data_de_nascimento' , 'altura' , 'peso' , 'nacionalidade' , 'clube' , 'nome_da_liga' , 'rank_na_liga']"
   ]
  },
  {
   "cell_type": "code",
   "execution_count": 65,
   "id": "45a08031",
   "metadata": {},
   "outputs": [],
   "source": [
    "dataresumo.columns = colunas"
   ]
  },
  {
   "cell_type": "code",
   "execution_count": null,
   "id": "ffbc5c21",
   "metadata": {},
   "outputs": [],
   "source": []
  },
  {
   "cell_type": "markdown",
   "id": "bf4425e5",
   "metadata": {},
   "source": [
    "# Propriedades do dataframe"
   ]
  },
  {
   "cell_type": "code",
   "execution_count": null,
   "id": "4f4940eb",
   "metadata": {},
   "outputs": [],
   "source": []
  },
  {
   "cell_type": "code",
   "execution_count": 66,
   "id": "e5213f87",
   "metadata": {
    "scrolled": true
   },
   "outputs": [
    {
     "data": {
      "text/html": [
       "<div>\n",
       "<style scoped>\n",
       "    .dataframe tbody tr th:only-of-type {\n",
       "        vertical-align: middle;\n",
       "    }\n",
       "\n",
       "    .dataframe tbody tr th {\n",
       "        vertical-align: top;\n",
       "    }\n",
       "\n",
       "    .dataframe thead th {\n",
       "        text-align: right;\n",
       "    }\n",
       "</style>\n",
       "<table border=\"1\" class=\"dataframe\">\n",
       "  <thead>\n",
       "    <tr style=\"text-align: right;\">\n",
       "      <th></th>\n",
       "      <th>nome</th>\n",
       "      <th>nome_completo</th>\n",
       "      <th>idade</th>\n",
       "      <th>data_de_nascimento</th>\n",
       "      <th>altura</th>\n",
       "      <th>peso</th>\n",
       "      <th>nacionalidade</th>\n",
       "      <th>clube</th>\n",
       "      <th>nome_da_liga</th>\n",
       "      <th>rank_na_liga</th>\n",
       "    </tr>\n",
       "  </thead>\n",
       "  <tbody>\n",
       "    <tr>\n",
       "      <th>0</th>\n",
       "      <td>L. Messi</td>\n",
       "      <td>Lionel Andrés Messi Cuccittini</td>\n",
       "      <td>27</td>\n",
       "      <td>1987-06-24</td>\n",
       "      <td>169</td>\n",
       "      <td>67</td>\n",
       "      <td>Argentina</td>\n",
       "      <td>FC Barcelona</td>\n",
       "      <td>Spain Primera Division</td>\n",
       "      <td>1.0</td>\n",
       "    </tr>\n",
       "    <tr>\n",
       "      <th>1</th>\n",
       "      <td>Cristiano Ronaldo</td>\n",
       "      <td>Cristiano Ronaldo dos Santos Aveiro</td>\n",
       "      <td>29</td>\n",
       "      <td>1985-02-05</td>\n",
       "      <td>185</td>\n",
       "      <td>80</td>\n",
       "      <td>Portugal</td>\n",
       "      <td>Real Madrid</td>\n",
       "      <td>Spain Primera Division</td>\n",
       "      <td>1.0</td>\n",
       "    </tr>\n",
       "    <tr>\n",
       "      <th>2</th>\n",
       "      <td>A. Robben</td>\n",
       "      <td>Arjen Robben</td>\n",
       "      <td>30</td>\n",
       "      <td>1984-01-23</td>\n",
       "      <td>180</td>\n",
       "      <td>80</td>\n",
       "      <td>Netherlands</td>\n",
       "      <td>FC Bayern München</td>\n",
       "      <td>German 1. Bundesliga</td>\n",
       "      <td>1.0</td>\n",
       "    </tr>\n",
       "    <tr>\n",
       "      <th>3</th>\n",
       "      <td>Z. Ibrahimović</td>\n",
       "      <td>Zlatan Ibrahimović</td>\n",
       "      <td>32</td>\n",
       "      <td>1981-10-03</td>\n",
       "      <td>195</td>\n",
       "      <td>95</td>\n",
       "      <td>Sweden</td>\n",
       "      <td>Paris Saint-Germain</td>\n",
       "      <td>French Ligue 1</td>\n",
       "      <td>1.0</td>\n",
       "    </tr>\n",
       "    <tr>\n",
       "      <th>4</th>\n",
       "      <td>M. Neuer</td>\n",
       "      <td>Manuel Neuer</td>\n",
       "      <td>28</td>\n",
       "      <td>1986-03-27</td>\n",
       "      <td>193</td>\n",
       "      <td>92</td>\n",
       "      <td>Germany</td>\n",
       "      <td>FC Bayern München</td>\n",
       "      <td>German 1. Bundesliga</td>\n",
       "      <td>1.0</td>\n",
       "    </tr>\n",
       "  </tbody>\n",
       "</table>\n",
       "</div>"
      ],
      "text/plain": [
       "                nome                        nome_completo  idade  \\\n",
       "0           L. Messi       Lionel Andrés Messi Cuccittini     27   \n",
       "1  Cristiano Ronaldo  Cristiano Ronaldo dos Santos Aveiro     29   \n",
       "2          A. Robben                         Arjen Robben     30   \n",
       "3     Z. Ibrahimović                   Zlatan Ibrahimović     32   \n",
       "4           M. Neuer                         Manuel Neuer     28   \n",
       "\n",
       "  data_de_nascimento  altura  peso nacionalidade                clube  \\\n",
       "0         1987-06-24     169    67     Argentina         FC Barcelona   \n",
       "1         1985-02-05     185    80      Portugal          Real Madrid   \n",
       "2         1984-01-23     180    80   Netherlands    FC Bayern München   \n",
       "3         1981-10-03     195    95        Sweden  Paris Saint-Germain   \n",
       "4         1986-03-27     193    92       Germany    FC Bayern München   \n",
       "\n",
       "             nome_da_liga  rank_na_liga  \n",
       "0  Spain Primera Division           1.0  \n",
       "1  Spain Primera Division           1.0  \n",
       "2    German 1. Bundesliga           1.0  \n",
       "3          French Ligue 1           1.0  \n",
       "4    German 1. Bundesliga           1.0  "
      ]
     },
     "execution_count": 66,
     "metadata": {},
     "output_type": "execute_result"
    }
   ],
   "source": [
    "dataresumo.head()"
   ]
  },
  {
   "cell_type": "code",
   "execution_count": null,
   "id": "ae855c1d",
   "metadata": {},
   "outputs": [],
   "source": []
  },
  {
   "cell_type": "markdown",
   "id": "dd108499",
   "metadata": {},
   "source": [
    "Vamos conferir se os dtypes estão corretos em cada coluna."
   ]
  },
  {
   "cell_type": "code",
   "execution_count": null,
   "id": "3b116966",
   "metadata": {},
   "outputs": [],
   "source": []
  },
  {
   "cell_type": "code",
   "execution_count": 67,
   "id": "109d1113",
   "metadata": {
    "scrolled": true
   },
   "outputs": [
    {
     "data": {
      "text/plain": [
       "nome                          object\n",
       "nome_completo                 object\n",
       "idade                          int64\n",
       "data_de_nascimento    datetime64[ns]\n",
       "altura                         int64\n",
       "peso                           int64\n",
       "nacionalidade                 object\n",
       "clube                         object\n",
       "nome_da_liga                  object\n",
       "rank_na_liga                 float64\n",
       "dtype: object"
      ]
     },
     "execution_count": 67,
     "metadata": {},
     "output_type": "execute_result"
    }
   ],
   "source": [
    "dataresumo.dtypes"
   ]
  },
  {
   "cell_type": "code",
   "execution_count": null,
   "id": "33be03a3",
   "metadata": {},
   "outputs": [],
   "source": []
  },
  {
   "cell_type": "markdown",
   "id": "00e1de9b",
   "metadata": {},
   "source": [
    "Os dtypes estão corretos em cada coluna. Agora vamos conferir se há ausência de valores em alguma coluna."
   ]
  },
  {
   "cell_type": "code",
   "execution_count": null,
   "id": "53e33d16",
   "metadata": {},
   "outputs": [],
   "source": []
  },
  {
   "cell_type": "code",
   "execution_count": 68,
   "id": "92ed1540",
   "metadata": {
    "scrolled": false
   },
   "outputs": [
    {
     "data": {
      "text/plain": [
       "nome                    0\n",
       "nome_completo           0\n",
       "idade                   0\n",
       "data_de_nascimento      0\n",
       "altura                  0\n",
       "peso                    0\n",
       "nacionalidade           0\n",
       "clube                 239\n",
       "nome_da_liga          239\n",
       "rank_na_liga          239\n",
       "dtype: int64"
      ]
     },
     "execution_count": 68,
     "metadata": {},
     "output_type": "execute_result"
    }
   ],
   "source": [
    "dataresumo.isnull().sum()"
   ]
  },
  {
   "cell_type": "code",
   "execution_count": null,
   "id": "4ebfc2c8",
   "metadata": {},
   "outputs": [],
   "source": []
  },
  {
   "cell_type": "markdown",
   "id": "ba4e05b9",
   "metadata": {},
   "source": [
    "Como visto acima, existem valores ausentes nas colunas 'clube', 'nome_da_liga' e 'rank_da_liga'. Uma intuição é que, como esses valores coincidem em todas as linhas, faz sentido que um jogador sem clube também não participe de nenhuma liga e também não possua ranking na liga. Como esses valores não podem ser preenchidos, decidi mantê-los e também não utilizar a função drop."
   ]
  },
  {
   "cell_type": "code",
   "execution_count": null,
   "id": "c80bedb4",
   "metadata": {},
   "outputs": [],
   "source": []
  },
  {
   "cell_type": "markdown",
   "id": "d9abda17",
   "metadata": {},
   "source": [
    "# Criação de novas colunas"
   ]
  },
  {
   "cell_type": "code",
   "execution_count": null,
   "id": "a702a8aa",
   "metadata": {},
   "outputs": [],
   "source": []
  },
  {
   "cell_type": "markdown",
   "id": "58cb7031",
   "metadata": {},
   "source": [
    "Podemos separar a data de nascimento em colunas de dia, mês e ano de nascimento. Sabendo que o dataset é de 2021, podemos calcular a idade dos jogadores e descobrir em qual idade se encontra a maioria dos jogadores."
   ]
  },
  {
   "cell_type": "code",
   "execution_count": null,
   "id": "c7ac1881",
   "metadata": {},
   "outputs": [],
   "source": []
  },
  {
   "cell_type": "code",
   "execution_count": 69,
   "id": "060d1329",
   "metadata": {
    "scrolled": true
   },
   "outputs": [
    {
     "data": {
      "text/plain": [
       "0       1987-06-24\n",
       "1       1985-02-05\n",
       "2       1984-01-23\n",
       "3       1981-10-03\n",
       "4       1986-03-27\n",
       "           ...    \n",
       "16150   1996-09-26\n",
       "16151   1997-06-01\n",
       "16152   1995-07-10\n",
       "16153   1992-04-18\n",
       "16154   1973-01-14\n",
       "Name: data_de_nascimento, Length: 16155, dtype: datetime64[ns]"
      ]
     },
     "execution_count": 69,
     "metadata": {},
     "output_type": "execute_result"
    }
   ],
   "source": [
    "dataresumo['data_de_nascimento']"
   ]
  },
  {
   "cell_type": "code",
   "execution_count": null,
   "id": "de9eb865",
   "metadata": {},
   "outputs": [],
   "source": []
  },
  {
   "cell_type": "markdown",
   "id": "4b171055",
   "metadata": {},
   "source": [
    "Como a data de nascimento é separada por '-', podemos usar a função split para separar essa data em três partes: a primeira sendo o ano, a segunda o mês e a terceira o dia. Em seguida, iremos transformar essas novas colunas em um dtype apropriado (int) e então criar uma nova coluna com a idade dos jogadores."
   ]
  },
  {
   "cell_type": "code",
   "execution_count": null,
   "id": "3d3f21fe",
   "metadata": {},
   "outputs": [],
   "source": []
  },
  {
   "cell_type": "code",
   "execution_count": 70,
   "id": "d38b5d1c",
   "metadata": {},
   "outputs": [],
   "source": [
    "ano = dataresumo['data_de_nascimento'].astype(str).str.split('-').str[0]"
   ]
  },
  {
   "cell_type": "code",
   "execution_count": 71,
   "id": "cda7403e",
   "metadata": {},
   "outputs": [],
   "source": [
    "mes = dataresumo['data_de_nascimento'].astype(str).str.split('-').str[1]"
   ]
  },
  {
   "cell_type": "code",
   "execution_count": 72,
   "id": "35d0dc56",
   "metadata": {},
   "outputs": [],
   "source": [
    "dia = dataresumo['data_de_nascimento'].astype(str).str.split('-').str[2]"
   ]
  },
  {
   "cell_type": "code",
   "execution_count": 73,
   "id": "7c80b184",
   "metadata": {},
   "outputs": [],
   "source": [
    "dataresumo['ano_nas'] = ano\n",
    "dataresumo['mes_nas'] = mes\n",
    "dataresumo['dia_nas'] = dia\n",
    "dataresumo['ano_nas'] = dataresumo['ano_nas'].astype(int)\n",
    "dataresumo['mes_nas'] = dataresumo['mes_nas'].astype(int)\n",
    "dataresumo['dia_nas'] = dataresumo['dia_nas'].astype(int)"
   ]
  },
  {
   "cell_type": "code",
   "execution_count": 74,
   "id": "a2a1584e",
   "metadata": {},
   "outputs": [],
   "source": [
    "dataresumo['idade'] = 2021 - dataresumo['ano_nas']"
   ]
  },
  {
   "cell_type": "code",
   "execution_count": null,
   "id": "99042ded",
   "metadata": {},
   "outputs": [],
   "source": []
  },
  {
   "cell_type": "markdown",
   "id": "9adc9a60",
   "metadata": {},
   "source": [
    "E as colunas ficaram assim: \n",
    "ano_nas corresponde ao ano de nascimento; \n",
    "mes_nas correponde ao mes de nascimento; \n",
    "dia_nas corresponde ao dia de nascimento; \n",
    "e idade corresponde a idade; "
   ]
  },
  {
   "cell_type": "code",
   "execution_count": null,
   "id": "0719ee2b",
   "metadata": {},
   "outputs": [],
   "source": []
  },
  {
   "cell_type": "code",
   "execution_count": 75,
   "id": "1401f9cf",
   "metadata": {
    "scrolled": true
   },
   "outputs": [
    {
     "data": {
      "text/html": [
       "<div>\n",
       "<style scoped>\n",
       "    .dataframe tbody tr th:only-of-type {\n",
       "        vertical-align: middle;\n",
       "    }\n",
       "\n",
       "    .dataframe tbody tr th {\n",
       "        vertical-align: top;\n",
       "    }\n",
       "\n",
       "    .dataframe thead th {\n",
       "        text-align: right;\n",
       "    }\n",
       "</style>\n",
       "<table border=\"1\" class=\"dataframe\">\n",
       "  <thead>\n",
       "    <tr style=\"text-align: right;\">\n",
       "      <th></th>\n",
       "      <th>nome</th>\n",
       "      <th>ano_nas</th>\n",
       "      <th>mes_nas</th>\n",
       "      <th>dia_nas</th>\n",
       "      <th>idade</th>\n",
       "    </tr>\n",
       "  </thead>\n",
       "  <tbody>\n",
       "    <tr>\n",
       "      <th>0</th>\n",
       "      <td>L. Messi</td>\n",
       "      <td>1987</td>\n",
       "      <td>6</td>\n",
       "      <td>24</td>\n",
       "      <td>34</td>\n",
       "    </tr>\n",
       "    <tr>\n",
       "      <th>1</th>\n",
       "      <td>Cristiano Ronaldo</td>\n",
       "      <td>1985</td>\n",
       "      <td>2</td>\n",
       "      <td>5</td>\n",
       "      <td>36</td>\n",
       "    </tr>\n",
       "    <tr>\n",
       "      <th>2</th>\n",
       "      <td>A. Robben</td>\n",
       "      <td>1984</td>\n",
       "      <td>1</td>\n",
       "      <td>23</td>\n",
       "      <td>37</td>\n",
       "    </tr>\n",
       "    <tr>\n",
       "      <th>3</th>\n",
       "      <td>Z. Ibrahimović</td>\n",
       "      <td>1981</td>\n",
       "      <td>10</td>\n",
       "      <td>3</td>\n",
       "      <td>40</td>\n",
       "    </tr>\n",
       "    <tr>\n",
       "      <th>4</th>\n",
       "      <td>M. Neuer</td>\n",
       "      <td>1986</td>\n",
       "      <td>3</td>\n",
       "      <td>27</td>\n",
       "      <td>35</td>\n",
       "    </tr>\n",
       "    <tr>\n",
       "      <th>...</th>\n",
       "      <td>...</td>\n",
       "      <td>...</td>\n",
       "      <td>...</td>\n",
       "      <td>...</td>\n",
       "      <td>...</td>\n",
       "    </tr>\n",
       "    <tr>\n",
       "      <th>16150</th>\n",
       "      <td>E. Redman</td>\n",
       "      <td>1996</td>\n",
       "      <td>9</td>\n",
       "      <td>26</td>\n",
       "      <td>25</td>\n",
       "    </tr>\n",
       "    <tr>\n",
       "      <th>16151</th>\n",
       "      <td>A. Collins</td>\n",
       "      <td>1997</td>\n",
       "      <td>6</td>\n",
       "      <td>1</td>\n",
       "      <td>24</td>\n",
       "    </tr>\n",
       "    <tr>\n",
       "      <th>16152</th>\n",
       "      <td>P. Żemło</td>\n",
       "      <td>1995</td>\n",
       "      <td>7</td>\n",
       "      <td>10</td>\n",
       "      <td>26</td>\n",
       "    </tr>\n",
       "    <tr>\n",
       "      <th>16153</th>\n",
       "      <td>T. Davies</td>\n",
       "      <td>1992</td>\n",
       "      <td>4</td>\n",
       "      <td>18</td>\n",
       "      <td>29</td>\n",
       "    </tr>\n",
       "    <tr>\n",
       "      <th>16154</th>\n",
       "      <td>P. Tisdale</td>\n",
       "      <td>1973</td>\n",
       "      <td>1</td>\n",
       "      <td>14</td>\n",
       "      <td>48</td>\n",
       "    </tr>\n",
       "  </tbody>\n",
       "</table>\n",
       "<p>16155 rows × 5 columns</p>\n",
       "</div>"
      ],
      "text/plain": [
       "                    nome  ano_nas  mes_nas  dia_nas  idade\n",
       "0               L. Messi     1987        6       24     34\n",
       "1      Cristiano Ronaldo     1985        2        5     36\n",
       "2              A. Robben     1984        1       23     37\n",
       "3         Z. Ibrahimović     1981       10        3     40\n",
       "4               M. Neuer     1986        3       27     35\n",
       "...                  ...      ...      ...      ...    ...\n",
       "16150          E. Redman     1996        9       26     25\n",
       "16151         A. Collins     1997        6        1     24\n",
       "16152           P. Żemło     1995        7       10     26\n",
       "16153          T. Davies     1992        4       18     29\n",
       "16154         P. Tisdale     1973        1       14     48\n",
       "\n",
       "[16155 rows x 5 columns]"
      ]
     },
     "execution_count": 75,
     "metadata": {},
     "output_type": "execute_result"
    }
   ],
   "source": [
    "dataresumo[['nome' , 'ano_nas' , 'mes_nas' , 'dia_nas' , 'idade']]"
   ]
  },
  {
   "cell_type": "code",
   "execution_count": null,
   "id": "aa4b83a9",
   "metadata": {},
   "outputs": [],
   "source": []
  },
  {
   "cell_type": "markdown",
   "id": "8b300fb5",
   "metadata": {},
   "source": [
    "Podemos agora verificar em qual idade a maioria dos jogadores está concentrada."
   ]
  },
  {
   "cell_type": "code",
   "execution_count": null,
   "id": "989ed901",
   "metadata": {},
   "outputs": [],
   "source": []
  },
  {
   "cell_type": "code",
   "execution_count": 76,
   "id": "64dfe73e",
   "metadata": {},
   "outputs": [],
   "source": [
    "idade_count = pd.DataFrame(dataresumo['idade'].value_counts()).sort_values(by='idade')"
   ]
  },
  {
   "cell_type": "code",
   "execution_count": 77,
   "id": "56fe3460",
   "metadata": {},
   "outputs": [],
   "source": [
    "idade_count['idade'] = idade_count.index"
   ]
  },
  {
   "cell_type": "code",
   "execution_count": 78,
   "id": "9504c147",
   "metadata": {
    "scrolled": false
   },
   "outputs": [
    {
     "data": {
      "text/plain": [
       "Text(0, 0.5, 'Quantidade de jogadores')"
      ]
     },
     "execution_count": 78,
     "metadata": {},
     "output_type": "execute_result"
    },
    {
     "data": {
      "image/png": "[encoded data removed]",
      "text/plain": [
       "<Figure size 640x480 with 1 Axes>"
      ]
     },
     "metadata": {},
     "output_type": "display_data"
    }
   ],
   "source": [
    "sns.set_style(\"whitegrid\")\n",
    "ax = sns.boxplot(data = idade_count, x = 'idade' , y = 'count' , linewidth=0.5)\n",
    "x=plt.xticks(rotation=90)\n",
    "ax.set_title('Quantidade de jogadores por idade')\n",
    "plt.ylabel ('Quantidade de jogadores')"
   ]
  },
  {
   "cell_type": "code",
   "execution_count": null,
   "id": "477a9485",
   "metadata": {},
   "outputs": [],
   "source": []
  },
  {
   "cell_type": "markdown",
   "id": "38b890ef",
   "metadata": {},
   "source": [
    "A idade da maioria dos jogadores se concentra entre 27 e 33 anos; em seguida, há uma diminuição. Essa faixa etária pode indicar uma melhor combinação de habilidade e desempenho físico."
   ]
  },
  {
   "cell_type": "code",
   "execution_count": null,
   "id": "438bc78f",
   "metadata": {},
   "outputs": [],
   "source": []
  },
  {
   "cell_type": "markdown",
   "id": "e76b4455",
   "metadata": {},
   "source": [
    "# Em quais países existe a concentração de maiores jogadores?"
   ]
  },
  {
   "cell_type": "code",
   "execution_count": null,
   "id": "874761d8",
   "metadata": {},
   "outputs": [],
   "source": []
  },
  {
   "cell_type": "markdown",
   "id": "a71be6fe",
   "metadata": {},
   "source": [
    "Nessa parte, vou utilizar um banco de dados do site Kaggle chamado 'Country Mapping - ISO, Continent, Region'. Com esse banco de dados, vamos buscar o identificador alpha-3, assim como o continente. Com o identificador alpha-3, vamos plotar no mapa mundi a quantidade de jogadores por país e verificar quais regiões possuem maior densidade de jogadores. Também vamos usar o continente para verificar a porcentagem de jogadores por continente."
   ]
  },
  {
   "cell_type": "code",
   "execution_count": null,
   "id": "8c5636bf",
   "metadata": {},
   "outputs": [],
   "source": []
  },
  {
   "cell_type": "code",
   "execution_count": 79,
   "id": "999fd1f2",
   "metadata": {},
   "outputs": [],
   "source": [
    "datacontinentes = pd.read_csv(r\"C:\\Users\\joao\\Desktop\\modelos\\fifa21\\continents2.csv\")"
   ]
  },
  {
   "cell_type": "code",
   "execution_count": null,
   "id": "6e4ef914",
   "metadata": {},
   "outputs": [],
   "source": []
  },
  {
   "cell_type": "markdown",
   "id": "e22f6596",
   "metadata": {},
   "source": [
    "datacontinentes refere-se ao banco de dados 'Country Mapping - ISO, Continent, Region'. Esse dataframe possui 11 colunas, mas iremos utilizar apenas as colunas 'alpha-3' e 'region'."
   ]
  },
  {
   "cell_type": "code",
   "execution_count": 80,
   "id": "5bbaf2a1",
   "metadata": {
    "scrolled": false
   },
   "outputs": [
    {
     "data": {
      "text/html": [
       "<div>\n",
       "<style scoped>\n",
       "    .dataframe tbody tr th:only-of-type {\n",
       "        vertical-align: middle;\n",
       "    }\n",
       "\n",
       "    .dataframe tbody tr th {\n",
       "        vertical-align: top;\n",
       "    }\n",
       "\n",
       "    .dataframe thead th {\n",
       "        text-align: right;\n",
       "    }\n",
       "</style>\n",
       "<table border=\"1\" class=\"dataframe\">\n",
       "  <thead>\n",
       "    <tr style=\"text-align: right;\">\n",
       "      <th></th>\n",
       "      <th>name</th>\n",
       "      <th>alpha-2</th>\n",
       "      <th>alpha-3</th>\n",
       "      <th>country-code</th>\n",
       "      <th>iso_3166-2</th>\n",
       "      <th>region</th>\n",
       "      <th>sub-region</th>\n",
       "      <th>intermediate-region</th>\n",
       "      <th>region-code</th>\n",
       "      <th>sub-region-code</th>\n",
       "      <th>intermediate-region-code</th>\n",
       "    </tr>\n",
       "  </thead>\n",
       "  <tbody>\n",
       "    <tr>\n",
       "      <th>0</th>\n",
       "      <td>Afghanistan</td>\n",
       "      <td>AF</td>\n",
       "      <td>AFG</td>\n",
       "      <td>4</td>\n",
       "      <td>ISO 3166-2:AF</td>\n",
       "      <td>Asia</td>\n",
       "      <td>Southern Asia</td>\n",
       "      <td>NaN</td>\n",
       "      <td>142.0</td>\n",
       "      <td>34.0</td>\n",
       "      <td>NaN</td>\n",
       "    </tr>\n",
       "    <tr>\n",
       "      <th>1</th>\n",
       "      <td>Åland Islands</td>\n",
       "      <td>AX</td>\n",
       "      <td>ALA</td>\n",
       "      <td>248</td>\n",
       "      <td>ISO 3166-2:AX</td>\n",
       "      <td>Europe</td>\n",
       "      <td>Northern Europe</td>\n",
       "      <td>NaN</td>\n",
       "      <td>150.0</td>\n",
       "      <td>154.0</td>\n",
       "      <td>NaN</td>\n",
       "    </tr>\n",
       "    <tr>\n",
       "      <th>2</th>\n",
       "      <td>Albania</td>\n",
       "      <td>AL</td>\n",
       "      <td>ALB</td>\n",
       "      <td>8</td>\n",
       "      <td>ISO 3166-2:AL</td>\n",
       "      <td>Europe</td>\n",
       "      <td>Southern Europe</td>\n",
       "      <td>NaN</td>\n",
       "      <td>150.0</td>\n",
       "      <td>39.0</td>\n",
       "      <td>NaN</td>\n",
       "    </tr>\n",
       "    <tr>\n",
       "      <th>3</th>\n",
       "      <td>Algeria</td>\n",
       "      <td>DZ</td>\n",
       "      <td>DZA</td>\n",
       "      <td>12</td>\n",
       "      <td>ISO 3166-2:DZ</td>\n",
       "      <td>Africa</td>\n",
       "      <td>Northern Africa</td>\n",
       "      <td>NaN</td>\n",
       "      <td>2.0</td>\n",
       "      <td>15.0</td>\n",
       "      <td>NaN</td>\n",
       "    </tr>\n",
       "    <tr>\n",
       "      <th>4</th>\n",
       "      <td>American Samoa</td>\n",
       "      <td>AS</td>\n",
       "      <td>ASM</td>\n",
       "      <td>16</td>\n",
       "      <td>ISO 3166-2:AS</td>\n",
       "      <td>Oceania</td>\n",
       "      <td>Polynesia</td>\n",
       "      <td>NaN</td>\n",
       "      <td>9.0</td>\n",
       "      <td>61.0</td>\n",
       "      <td>NaN</td>\n",
       "    </tr>\n",
       "    <tr>\n",
       "      <th>...</th>\n",
       "      <td>...</td>\n",
       "      <td>...</td>\n",
       "      <td>...</td>\n",
       "      <td>...</td>\n",
       "      <td>...</td>\n",
       "      <td>...</td>\n",
       "      <td>...</td>\n",
       "      <td>...</td>\n",
       "      <td>...</td>\n",
       "      <td>...</td>\n",
       "      <td>...</td>\n",
       "    </tr>\n",
       "    <tr>\n",
       "      <th>244</th>\n",
       "      <td>Wallis and Futuna</td>\n",
       "      <td>WF</td>\n",
       "      <td>WLF</td>\n",
       "      <td>876</td>\n",
       "      <td>ISO 3166-2:WF</td>\n",
       "      <td>Oceania</td>\n",
       "      <td>Polynesia</td>\n",
       "      <td>NaN</td>\n",
       "      <td>9.0</td>\n",
       "      <td>61.0</td>\n",
       "      <td>NaN</td>\n",
       "    </tr>\n",
       "    <tr>\n",
       "      <th>245</th>\n",
       "      <td>Western Sahara</td>\n",
       "      <td>EH</td>\n",
       "      <td>ESH</td>\n",
       "      <td>732</td>\n",
       "      <td>ISO 3166-2:EH</td>\n",
       "      <td>Africa</td>\n",
       "      <td>Northern Africa</td>\n",
       "      <td>NaN</td>\n",
       "      <td>2.0</td>\n",
       "      <td>15.0</td>\n",
       "      <td>NaN</td>\n",
       "    </tr>\n",
       "    <tr>\n",
       "      <th>246</th>\n",
       "      <td>Yemen</td>\n",
       "      <td>YE</td>\n",
       "      <td>YEM</td>\n",
       "      <td>887</td>\n",
       "      <td>ISO 3166-2:YE</td>\n",
       "      <td>Asia</td>\n",
       "      <td>Western Asia</td>\n",
       "      <td>NaN</td>\n",
       "      <td>142.0</td>\n",
       "      <td>145.0</td>\n",
       "      <td>NaN</td>\n",
       "    </tr>\n",
       "    <tr>\n",
       "      <th>247</th>\n",
       "      <td>Zambia</td>\n",
       "      <td>ZM</td>\n",
       "      <td>ZMB</td>\n",
       "      <td>894</td>\n",
       "      <td>ISO 3166-2:ZM</td>\n",
       "      <td>Africa</td>\n",
       "      <td>Sub-Saharan Africa</td>\n",
       "      <td>Eastern Africa</td>\n",
       "      <td>2.0</td>\n",
       "      <td>202.0</td>\n",
       "      <td>14.0</td>\n",
       "    </tr>\n",
       "    <tr>\n",
       "      <th>248</th>\n",
       "      <td>Zimbabwe</td>\n",
       "      <td>ZW</td>\n",
       "      <td>ZWE</td>\n",
       "      <td>716</td>\n",
       "      <td>ISO 3166-2:ZW</td>\n",
       "      <td>Africa</td>\n",
       "      <td>Sub-Saharan Africa</td>\n",
       "      <td>Eastern Africa</td>\n",
       "      <td>2.0</td>\n",
       "      <td>202.0</td>\n",
       "      <td>14.0</td>\n",
       "    </tr>\n",
       "  </tbody>\n",
       "</table>\n",
       "<p>249 rows × 11 columns</p>\n",
       "</div>"
      ],
      "text/plain": [
       "                  name alpha-2 alpha-3  country-code     iso_3166-2   region  \\\n",
       "0          Afghanistan      AF     AFG             4  ISO 3166-2:AF     Asia   \n",
       "1        Åland Islands      AX     ALA           248  ISO 3166-2:AX   Europe   \n",
       "2              Albania      AL     ALB             8  ISO 3166-2:AL   Europe   \n",
       "3              Algeria      DZ     DZA            12  ISO 3166-2:DZ   Africa   \n",
       "4       American Samoa      AS     ASM            16  ISO 3166-2:AS  Oceania   \n",
       "..                 ...     ...     ...           ...            ...      ...   \n",
       "244  Wallis and Futuna      WF     WLF           876  ISO 3166-2:WF  Oceania   \n",
       "245     Western Sahara      EH     ESH           732  ISO 3166-2:EH   Africa   \n",
       "246              Yemen      YE     YEM           887  ISO 3166-2:YE     Asia   \n",
       "247             Zambia      ZM     ZMB           894  ISO 3166-2:ZM   Africa   \n",
       "248           Zimbabwe      ZW     ZWE           716  ISO 3166-2:ZW   Africa   \n",
       "\n",
       "             sub-region intermediate-region  region-code  sub-region-code  \\\n",
       "0         Southern Asia                 NaN        142.0             34.0   \n",
       "1       Northern Europe                 NaN        150.0            154.0   \n",
       "2       Southern Europe                 NaN        150.0             39.0   \n",
       "3       Northern Africa                 NaN          2.0             15.0   \n",
       "4             Polynesia                 NaN          9.0             61.0   \n",
       "..                  ...                 ...          ...              ...   \n",
       "244           Polynesia                 NaN          9.0             61.0   \n",
       "245     Northern Africa                 NaN          2.0             15.0   \n",
       "246        Western Asia                 NaN        142.0            145.0   \n",
       "247  Sub-Saharan Africa      Eastern Africa          2.0            202.0   \n",
       "248  Sub-Saharan Africa      Eastern Africa          2.0            202.0   \n",
       "\n",
       "     intermediate-region-code  \n",
       "0                         NaN  \n",
       "1                         NaN  \n",
       "2                         NaN  \n",
       "3                         NaN  \n",
       "4                         NaN  \n",
       "..                        ...  \n",
       "244                       NaN  \n",
       "245                       NaN  \n",
       "246                       NaN  \n",
       "247                      14.0  \n",
       "248                      14.0  \n",
       "\n",
       "[249 rows x 11 columns]"
      ]
     },
     "execution_count": 80,
     "metadata": {},
     "output_type": "execute_result"
    }
   ],
   "source": [
    "datacontinentes"
   ]
  },
  {
   "cell_type": "code",
   "execution_count": null,
   "id": "082c4f98",
   "metadata": {},
   "outputs": [],
   "source": []
  },
  {
   "cell_type": "markdown",
   "id": "c0ca0fca",
   "metadata": {},
   "source": [
    "Agora iremos criar dois dicionários: 'pais_suf' que possui uma chave referente ao país e um valor referente ao código alpha-3 daquele país; 'pais_cont' também possui uma chave referente ao país, mas o valor é referente ao continente. Em seguida, iremos usar esses dicionários para mapear e criar duas novas colunas no dataframe original 'dataresumo', contendo o continente e a chave alpha-3. Para isso, usarei um loop for pelo tamanho do dataframe 'datacontinentes' e, em seguida, pegarei cada chave e valor usando a função iloc."
   ]
  },
  {
   "cell_type": "code",
   "execution_count": null,
   "id": "5534121a",
   "metadata": {},
   "outputs": [],
   "source": []
  },
  {
   "cell_type": "code",
   "execution_count": 81,
   "id": "690fa351",
   "metadata": {},
   "outputs": [],
   "source": [
    "pais_suf = {}\n",
    "pais_cont = {}\n",
    "for i in range(len(datacontinentes)):\n",
    "    pais_suf[datacontinentes.iloc[i,0]] = datacontinentes.iloc[i,2]\n",
    "    pais_cont[datacontinentes.iloc[i,0]] = datacontinentes.iloc[i,5]\n",
    "    "
   ]
  },
  {
   "cell_type": "code",
   "execution_count": null,
   "id": "e5b19cef",
   "metadata": {},
   "outputs": [],
   "source": []
  },
  {
   "cell_type": "markdown",
   "id": "5eaf00fd",
   "metadata": {},
   "source": [
    "Agora iremos mapear com o dataframe original."
   ]
  },
  {
   "cell_type": "code",
   "execution_count": null,
   "id": "7f8fe36c",
   "metadata": {},
   "outputs": [],
   "source": []
  },
  {
   "cell_type": "code",
   "execution_count": 82,
   "id": "1f2a54a3",
   "metadata": {},
   "outputs": [],
   "source": [
    "dataresumo['continente'] = dataresumo['nacionalidade'].map(pais_cont)\n",
    "dataresumo['id'] = dataresumo['nacionalidade'].map(pais_suf)"
   ]
  },
  {
   "cell_type": "code",
   "execution_count": null,
   "id": "443aa75c",
   "metadata": {},
   "outputs": [],
   "source": []
  },
  {
   "cell_type": "markdown",
   "id": "0184a703",
   "metadata": {},
   "source": [
    "Podemos visualizar como ficou mapeado no dataframe original 'dataresumo'. Agora a coluna da nacionalidade possui uma correspondente 'id', que se refere ao código alpha-3, e também uma coluna para o continente."
   ]
  },
  {
   "cell_type": "code",
   "execution_count": null,
   "id": "2e87aea0",
   "metadata": {},
   "outputs": [],
   "source": []
  },
  {
   "cell_type": "code",
   "execution_count": 83,
   "id": "5ea23ded",
   "metadata": {},
   "outputs": [
    {
     "data": {
      "text/html": [
       "<div>\n",
       "<style scoped>\n",
       "    .dataframe tbody tr th:only-of-type {\n",
       "        vertical-align: middle;\n",
       "    }\n",
       "\n",
       "    .dataframe tbody tr th {\n",
       "        vertical-align: top;\n",
       "    }\n",
       "\n",
       "    .dataframe thead th {\n",
       "        text-align: right;\n",
       "    }\n",
       "</style>\n",
       "<table border=\"1\" class=\"dataframe\">\n",
       "  <thead>\n",
       "    <tr style=\"text-align: right;\">\n",
       "      <th></th>\n",
       "      <th>nacionalidade</th>\n",
       "      <th>id</th>\n",
       "      <th>continente</th>\n",
       "    </tr>\n",
       "  </thead>\n",
       "  <tbody>\n",
       "    <tr>\n",
       "      <th>0</th>\n",
       "      <td>Argentina</td>\n",
       "      <td>ARG</td>\n",
       "      <td>Americas</td>\n",
       "    </tr>\n",
       "    <tr>\n",
       "      <th>1</th>\n",
       "      <td>Portugal</td>\n",
       "      <td>PRT</td>\n",
       "      <td>Europe</td>\n",
       "    </tr>\n",
       "    <tr>\n",
       "      <th>2</th>\n",
       "      <td>Netherlands</td>\n",
       "      <td>NLD</td>\n",
       "      <td>Europe</td>\n",
       "    </tr>\n",
       "    <tr>\n",
       "      <th>3</th>\n",
       "      <td>Sweden</td>\n",
       "      <td>SWE</td>\n",
       "      <td>Europe</td>\n",
       "    </tr>\n",
       "    <tr>\n",
       "      <th>4</th>\n",
       "      <td>Germany</td>\n",
       "      <td>DEU</td>\n",
       "      <td>Europe</td>\n",
       "    </tr>\n",
       "    <tr>\n",
       "      <th>...</th>\n",
       "      <td>...</td>\n",
       "      <td>...</td>\n",
       "      <td>...</td>\n",
       "    </tr>\n",
       "    <tr>\n",
       "      <th>16150</th>\n",
       "      <td>Wales</td>\n",
       "      <td>NaN</td>\n",
       "      <td>NaN</td>\n",
       "    </tr>\n",
       "    <tr>\n",
       "      <th>16151</th>\n",
       "      <td>Wales</td>\n",
       "      <td>NaN</td>\n",
       "      <td>NaN</td>\n",
       "    </tr>\n",
       "    <tr>\n",
       "      <th>16152</th>\n",
       "      <td>Poland</td>\n",
       "      <td>POL</td>\n",
       "      <td>Europe</td>\n",
       "    </tr>\n",
       "    <tr>\n",
       "      <th>16153</th>\n",
       "      <td>England</td>\n",
       "      <td>NaN</td>\n",
       "      <td>NaN</td>\n",
       "    </tr>\n",
       "    <tr>\n",
       "      <th>16154</th>\n",
       "      <td>Malta</td>\n",
       "      <td>MLT</td>\n",
       "      <td>Europe</td>\n",
       "    </tr>\n",
       "  </tbody>\n",
       "</table>\n",
       "<p>16155 rows × 3 columns</p>\n",
       "</div>"
      ],
      "text/plain": [
       "      nacionalidade   id continente\n",
       "0         Argentina  ARG   Americas\n",
       "1          Portugal  PRT     Europe\n",
       "2       Netherlands  NLD     Europe\n",
       "3            Sweden  SWE     Europe\n",
       "4           Germany  DEU     Europe\n",
       "...             ...  ...        ...\n",
       "16150         Wales  NaN        NaN\n",
       "16151         Wales  NaN        NaN\n",
       "16152        Poland  POL     Europe\n",
       "16153       England  NaN        NaN\n",
       "16154         Malta  MLT     Europe\n",
       "\n",
       "[16155 rows x 3 columns]"
      ]
     },
     "execution_count": 83,
     "metadata": {},
     "output_type": "execute_result"
    }
   ],
   "source": [
    "dataresumo.iloc[:,[6,-1,-2]]"
   ]
  },
  {
   "cell_type": "code",
   "execution_count": null,
   "id": "5f78f8d4",
   "metadata": {},
   "outputs": [],
   "source": []
  },
  {
   "cell_type": "markdown",
   "id": "3f4ead5a",
   "metadata": {},
   "source": [
    "Com essas informações, agora podemos verificar a distribuição de jogadores por país. Irei criar um novo dataframe chamado 'dataresumo_j', obter a quantidade de jogadores por nacionalidade usando a função value_counts(), e criar novas colunas com o país e a quantidade de jogadores. Em seguida, irei mapear novamente os valores alpha-3 na coluna 'id'."
   ]
  },
  {
   "cell_type": "code",
   "execution_count": null,
   "id": "eb0b2501",
   "metadata": {},
   "outputs": [],
   "source": []
  },
  {
   "cell_type": "code",
   "execution_count": 84,
   "id": "52348a22",
   "metadata": {},
   "outputs": [],
   "source": [
    "dataresumo_j = pd.DataFrame()"
   ]
  },
  {
   "cell_type": "code",
   "execution_count": 85,
   "id": "1149344d",
   "metadata": {},
   "outputs": [],
   "source": [
    "dataresumo_j['pais'] = dataresumo['nacionalidade'].value_counts().index.values\n",
    "dataresumo_j['quantidade_de_jogadores'] = dataresumo['nacionalidade'].value_counts().values"
   ]
  },
  {
   "cell_type": "code",
   "execution_count": 86,
   "id": "8b665498",
   "metadata": {},
   "outputs": [],
   "source": [
    "dataresumo_j['id'] = dataresumo_j['pais'].map(pais_suf)"
   ]
  },
  {
   "cell_type": "code",
   "execution_count": 87,
   "id": "9af83cf1",
   "metadata": {},
   "outputs": [
    {
     "data": {
      "text/html": [
       "<div>\n",
       "<style scoped>\n",
       "    .dataframe tbody tr th:only-of-type {\n",
       "        vertical-align: middle;\n",
       "    }\n",
       "\n",
       "    .dataframe tbody tr th {\n",
       "        vertical-align: top;\n",
       "    }\n",
       "\n",
       "    .dataframe thead th {\n",
       "        text-align: right;\n",
       "    }\n",
       "</style>\n",
       "<table border=\"1\" class=\"dataframe\">\n",
       "  <thead>\n",
       "    <tr style=\"text-align: right;\">\n",
       "      <th></th>\n",
       "      <th>pais</th>\n",
       "      <th>quantidade_de_jogadores</th>\n",
       "      <th>id</th>\n",
       "    </tr>\n",
       "  </thead>\n",
       "  <tbody>\n",
       "    <tr>\n",
       "      <th>0</th>\n",
       "      <td>England</td>\n",
       "      <td>1627</td>\n",
       "      <td>NaN</td>\n",
       "    </tr>\n",
       "    <tr>\n",
       "      <th>1</th>\n",
       "      <td>Spain</td>\n",
       "      <td>1051</td>\n",
       "      <td>ESP</td>\n",
       "    </tr>\n",
       "    <tr>\n",
       "      <th>2</th>\n",
       "      <td>France</td>\n",
       "      <td>958</td>\n",
       "      <td>FRA</td>\n",
       "    </tr>\n",
       "    <tr>\n",
       "      <th>3</th>\n",
       "      <td>Argentina</td>\n",
       "      <td>867</td>\n",
       "      <td>ARG</td>\n",
       "    </tr>\n",
       "    <tr>\n",
       "      <th>4</th>\n",
       "      <td>Italy</td>\n",
       "      <td>795</td>\n",
       "      <td>ITA</td>\n",
       "    </tr>\n",
       "    <tr>\n",
       "      <th>...</th>\n",
       "      <td>...</td>\n",
       "      <td>...</td>\n",
       "      <td>...</td>\n",
       "    </tr>\n",
       "    <tr>\n",
       "      <th>144</th>\n",
       "      <td>Kyrgyzstan</td>\n",
       "      <td>1</td>\n",
       "      <td>KGZ</td>\n",
       "    </tr>\n",
       "    <tr>\n",
       "      <th>145</th>\n",
       "      <td>Fiji</td>\n",
       "      <td>1</td>\n",
       "      <td>FJI</td>\n",
       "    </tr>\n",
       "    <tr>\n",
       "      <th>146</th>\n",
       "      <td>Saint Lucia</td>\n",
       "      <td>1</td>\n",
       "      <td>LCA</td>\n",
       "    </tr>\n",
       "    <tr>\n",
       "      <th>147</th>\n",
       "      <td>Montserrat</td>\n",
       "      <td>1</td>\n",
       "      <td>MSR</td>\n",
       "    </tr>\n",
       "    <tr>\n",
       "      <th>148</th>\n",
       "      <td>Indonesia</td>\n",
       "      <td>1</td>\n",
       "      <td>IDN</td>\n",
       "    </tr>\n",
       "  </tbody>\n",
       "</table>\n",
       "<p>149 rows × 3 columns</p>\n",
       "</div>"
      ],
      "text/plain": [
       "            pais  quantidade_de_jogadores   id\n",
       "0        England                     1627  NaN\n",
       "1          Spain                     1051  ESP\n",
       "2         France                      958  FRA\n",
       "3      Argentina                      867  ARG\n",
       "4          Italy                      795  ITA\n",
       "..           ...                      ...  ...\n",
       "144   Kyrgyzstan                        1  KGZ\n",
       "145         Fiji                        1  FJI\n",
       "146  Saint Lucia                        1  LCA\n",
       "147   Montserrat                        1  MSR\n",
       "148    Indonesia                        1  IDN\n",
       "\n",
       "[149 rows x 3 columns]"
      ]
     },
     "execution_count": 87,
     "metadata": {},
     "output_type": "execute_result"
    }
   ],
   "source": [
    "dataresumo_j"
   ]
  },
  {
   "cell_type": "code",
   "execution_count": null,
   "id": "52ce1bf2",
   "metadata": {},
   "outputs": [],
   "source": []
  },
  {
   "cell_type": "markdown",
   "id": "4dedb699",
   "metadata": {},
   "source": [
    "Então iremos verificar se há valores alpha-3 faltando em 'id'. Como existem valores ausentes, irei corrigir manualmente os três primeiros pela quantidade de jogadores. Farei isso adicionando as chaves e valores para mapear novamente. Logo em seguida, irei remover as linhas que possuem algum valor ausente."
   ]
  },
  {
   "cell_type": "code",
   "execution_count": null,
   "id": "7c8c3f27",
   "metadata": {},
   "outputs": [],
   "source": []
  },
  {
   "cell_type": "code",
   "execution_count": 88,
   "id": "d8c27490",
   "metadata": {},
   "outputs": [
    {
     "data": {
      "text/html": [
       "<div>\n",
       "<style scoped>\n",
       "    .dataframe tbody tr th:only-of-type {\n",
       "        vertical-align: middle;\n",
       "    }\n",
       "\n",
       "    .dataframe tbody tr th {\n",
       "        vertical-align: top;\n",
       "    }\n",
       "\n",
       "    .dataframe thead th {\n",
       "        text-align: right;\n",
       "    }\n",
       "</style>\n",
       "<table border=\"1\" class=\"dataframe\">\n",
       "  <thead>\n",
       "    <tr style=\"text-align: right;\">\n",
       "      <th></th>\n",
       "      <th>pais</th>\n",
       "      <th>quantidade_de_jogadores</th>\n",
       "      <th>id</th>\n",
       "    </tr>\n",
       "  </thead>\n",
       "  <tbody>\n",
       "    <tr>\n",
       "      <th>0</th>\n",
       "      <td>England</td>\n",
       "      <td>1627</td>\n",
       "      <td>NaN</td>\n",
       "    </tr>\n",
       "    <tr>\n",
       "      <th>7</th>\n",
       "      <td>Republic of Ireland</td>\n",
       "      <td>460</td>\n",
       "      <td>NaN</td>\n",
       "    </tr>\n",
       "    <tr>\n",
       "      <th>18</th>\n",
       "      <td>Korea Republic</td>\n",
       "      <td>328</td>\n",
       "      <td>NaN</td>\n",
       "    </tr>\n",
       "    <tr>\n",
       "      <th>19</th>\n",
       "      <td>Scotland</td>\n",
       "      <td>323</td>\n",
       "      <td>NaN</td>\n",
       "    </tr>\n",
       "    <tr>\n",
       "      <th>28</th>\n",
       "      <td>Wales</td>\n",
       "      <td>118</td>\n",
       "      <td>NaN</td>\n",
       "    </tr>\n",
       "    <tr>\n",
       "      <th>32</th>\n",
       "      <td>Northern Ireland</td>\n",
       "      <td>91</td>\n",
       "      <td>NaN</td>\n",
       "    </tr>\n",
       "    <tr>\n",
       "      <th>35</th>\n",
       "      <td>Ivory Coast</td>\n",
       "      <td>86</td>\n",
       "      <td>NaN</td>\n",
       "    </tr>\n",
       "    <tr>\n",
       "      <th>49</th>\n",
       "      <td>Bosnia Herzegovina</td>\n",
       "      <td>42</td>\n",
       "      <td>NaN</td>\n",
       "    </tr>\n",
       "    <tr>\n",
       "      <th>55</th>\n",
       "      <td>DR Congo</td>\n",
       "      <td>38</td>\n",
       "      <td>NaN</td>\n",
       "    </tr>\n",
       "    <tr>\n",
       "      <th>65</th>\n",
       "      <td>North Macedonia</td>\n",
       "      <td>25</td>\n",
       "      <td>NaN</td>\n",
       "    </tr>\n",
       "    <tr>\n",
       "      <th>66</th>\n",
       "      <td>Cape Verde</td>\n",
       "      <td>25</td>\n",
       "      <td>NaN</td>\n",
       "    </tr>\n",
       "    <tr>\n",
       "      <th>82</th>\n",
       "      <td>Trinidad &amp; Tobago</td>\n",
       "      <td>12</td>\n",
       "      <td>NaN</td>\n",
       "    </tr>\n",
       "    <tr>\n",
       "      <th>94</th>\n",
       "      <td>Kosovo</td>\n",
       "      <td>7</td>\n",
       "      <td>NaN</td>\n",
       "    </tr>\n",
       "    <tr>\n",
       "      <th>102</th>\n",
       "      <td>Curacao</td>\n",
       "      <td>5</td>\n",
       "      <td>NaN</td>\n",
       "    </tr>\n",
       "    <tr>\n",
       "      <th>111</th>\n",
       "      <td>Antigua &amp; Barbuda</td>\n",
       "      <td>4</td>\n",
       "      <td>NaN</td>\n",
       "    </tr>\n",
       "    <tr>\n",
       "      <th>114</th>\n",
       "      <td>Palestine</td>\n",
       "      <td>3</td>\n",
       "      <td>NaN</td>\n",
       "    </tr>\n",
       "    <tr>\n",
       "      <th>127</th>\n",
       "      <td>China PR</td>\n",
       "      <td>2</td>\n",
       "      <td>NaN</td>\n",
       "    </tr>\n",
       "    <tr>\n",
       "      <th>133</th>\n",
       "      <td>Korea DPR</td>\n",
       "      <td>2</td>\n",
       "      <td>NaN</td>\n",
       "    </tr>\n",
       "  </tbody>\n",
       "</table>\n",
       "</div>"
      ],
      "text/plain": [
       "                    pais  quantidade_de_jogadores   id\n",
       "0                England                     1627  NaN\n",
       "7    Republic of Ireland                      460  NaN\n",
       "18        Korea Republic                      328  NaN\n",
       "19              Scotland                      323  NaN\n",
       "28                 Wales                      118  NaN\n",
       "32      Northern Ireland                       91  NaN\n",
       "35           Ivory Coast                       86  NaN\n",
       "49    Bosnia Herzegovina                       42  NaN\n",
       "55              DR Congo                       38  NaN\n",
       "65       North Macedonia                       25  NaN\n",
       "66            Cape Verde                       25  NaN\n",
       "82     Trinidad & Tobago                       12  NaN\n",
       "94                Kosovo                        7  NaN\n",
       "102              Curacao                        5  NaN\n",
       "111    Antigua & Barbuda                        4  NaN\n",
       "114            Palestine                        3  NaN\n",
       "127             China PR                        2  NaN\n",
       "133            Korea DPR                        2  NaN"
      ]
     },
     "execution_count": 88,
     "metadata": {},
     "output_type": "execute_result"
    }
   ],
   "source": [
    "dataresumo_j[dataresumo_j['id'].isnull()]"
   ]
  },
  {
   "cell_type": "code",
   "execution_count": null,
   "id": "b402d7a7",
   "metadata": {},
   "outputs": [],
   "source": []
  },
  {
   "cell_type": "markdown",
   "id": "2a13e380",
   "metadata": {},
   "source": [
    "Estes são os países que não possuem identificação. Iremos corrigir os 3 primeiros manualmente e remover as outras linhas."
   ]
  },
  {
   "cell_type": "code",
   "execution_count": null,
   "id": "b2304f61",
   "metadata": {},
   "outputs": [],
   "source": []
  },
  {
   "cell_type": "code",
   "execution_count": 89,
   "id": "5a939f18",
   "metadata": {},
   "outputs": [],
   "source": [
    "pais_suf['England'] = 'GBR'\n",
    "pais_suf['Republic of Ireland'] = 'IRL'\n",
    "pais_suf['Korea Republic'] = 'KOR'"
   ]
  },
  {
   "cell_type": "code",
   "execution_count": 90,
   "id": "65140b25",
   "metadata": {},
   "outputs": [],
   "source": [
    "dataresumo_j['id'] = dataresumo_j['pais'].map(pais_suf)"
   ]
  },
  {
   "cell_type": "code",
   "execution_count": 91,
   "id": "c5d178d6",
   "metadata": {},
   "outputs": [],
   "source": [
    "daresumo_j = dataresumo_j.dropna()"
   ]
  },
  {
   "cell_type": "code",
   "execution_count": null,
   "id": "df7ec2d7",
   "metadata": {},
   "outputs": [],
   "source": []
  },
  {
   "cell_type": "markdown",
   "id": "e06e3d0f",
   "metadata": {},
   "source": [
    "Agora, com esse dataframe, podemos plotar no mapa mundi, correlacionando a quantidade de jogadores por país com os países no gráfico."
   ]
  },
  {
   "cell_type": "code",
   "execution_count": null,
   "id": "f6996537",
   "metadata": {},
   "outputs": [],
   "source": []
  },
  {
   "cell_type": "code",
   "execution_count": 92,
   "id": "c4ed565c",
   "metadata": {},
   "outputs": [
    {
     "data": {
      "image/png": "[encoded data removed]",
      "text/plain": [
       "<IPython.core.display.Image object>"
      ]
     },
     "execution_count": 92,
     "metadata": {},
     "output_type": "execute_result"
    }
   ],
   "source": [
    "fig = go.Figure(data=go.Choropleth(\n",
    "locations = dataresumo_j['id'],\n",
    "z = dataresumo_j['quantidade_de_jogadores'],\n",
    "text = dataresumo_j['pais'],\n",
    "colorscale = 'Reds',\n",
    "autocolorscale=False,\n",
    "reversescale=False,\n",
    "marker_line_color='darkgray',\n",
    "marker_line_width=0.5,\n",
    "colorbar_title = 'quantidade de jogadores',\n",
    "))\n",
    "fig.update_layout(\n",
    "title_text='quantidade de jogadores por pais',\n",
    "geo=dict(\n",
    "showframe=False,\n",
    "showcoastlines=False,\n",
    "projection_type='equirectangular'))\n",
    "Image(fig.to_image(format=\"png\", width=1000, height=700))"
   ]
  },
  {
   "cell_type": "code",
   "execution_count": null,
   "id": "0a517605",
   "metadata": {},
   "outputs": [],
   "source": []
  },
  {
   "cell_type": "markdown",
   "id": "1abe27a4",
   "metadata": {},
   "source": [
    "Pelo gráfico, suspeitamos que a maior parte dos jogadores se concentra no continente europeu. Podemos confirmar isso usando a função groupby e agg do pandas."
   ]
  },
  {
   "cell_type": "code",
   "execution_count": null,
   "id": "b888b5ee",
   "metadata": {},
   "outputs": [],
   "source": []
  },
  {
   "cell_type": "code",
   "execution_count": 93,
   "id": "022da73e",
   "metadata": {},
   "outputs": [],
   "source": [
    "jogadores_por_cont = dataresumo.groupby('continente').agg({'nacionalidade' : lambda x : x.value_counts().sum()})"
   ]
  },
  {
   "cell_type": "code",
   "execution_count": 94,
   "id": "6c3defa9",
   "metadata": {},
   "outputs": [],
   "source": [
    "jogadores_por_cont\n",
    "jogadores_por_cont_frame = pd.DataFrame()\n",
    "jogadores_por_cont_frame['Quantidade de jogadores'] = jogadores_por_cont['nacionalidade'].values\n",
    "jogadores_por_cont_frame['Continente'] = jogadores_por_cont.index\n",
    "jogadores_por_cont_frame['Quantidade de jogadores em %'] = (jogadores_por_cont_frame['Quantidade de jogadores']/jogadores_por_cont_frame['Quantidade de jogadores'].sum())*100"
   ]
  },
  {
   "cell_type": "code",
   "execution_count": 95,
   "id": "a6b9fbb7",
   "metadata": {},
   "outputs": [
    {
     "data": {
      "image/png": "[encoded data removed]",
      "text/plain": [
       "<Figure size 640x480 with 1 Axes>"
      ]
     },
     "metadata": {},
     "output_type": "display_data"
    }
   ],
   "source": [
    "plt.pie(jogadores_por_cont_frame['Quantidade de jogadores em %'] , labels = jogadores_por_cont_frame['Continente'], autopct = '%1.1f%%')\n",
    "plt.title('Porcentagem de jogadores por continente')\n",
    "plt.show()"
   ]
  },
  {
   "cell_type": "code",
   "execution_count": null,
   "id": "18d9d345",
   "metadata": {},
   "outputs": [],
   "source": []
  },
  {
   "cell_type": "markdown",
   "id": "7e1b7469",
   "metadata": {},
   "source": [
    "Como esperado, mais da metade dos jogadores se concentra na Europa, e a quantidade restante está quase totalmente nas Américas. Ásia, África e Oceania possuem uma participação muito pequena de jogadores de acordo com os dados deste DataFrame."
   ]
  },
  {
   "cell_type": "code",
   "execution_count": null,
   "id": "3d103fa7",
   "metadata": {},
   "outputs": [],
   "source": []
  },
  {
   "cell_type": "markdown",
   "id": "4916ed98",
   "metadata": {},
   "source": [
    "# Média de altura dos jogadores X média de altura da população em geral?"
   ]
  },
  {
   "cell_type": "markdown",
   "id": "524ca522",
   "metadata": {},
   "source": [
    "Podemos verificar se a média de altura dos jogadores é maior do que a média de altura da população em geral, já que um corpo maior pode contribuir para melhor desempenho ao cabecear, chutar ou até mesmo agarrar a bola. Para isso, obtive os dados de altura do site 'worlddata' e os relacionei mapeando com o dataframe original, como feito anteriormente."
   ]
  },
  {
   "cell_type": "code",
   "execution_count": null,
   "id": "0eab33a3",
   "metadata": {},
   "outputs": [],
   "source": []
  },
  {
   "cell_type": "code",
   "execution_count": 96,
   "id": "c2b0eedc",
   "metadata": {},
   "outputs": [],
   "source": [
    "peso_alt = pd.read_excel(r\"C:\\Users\\joao\\Desktop\\modelos\\fifa21\\peso_alt_pais.xlsx\")"
   ]
  },
  {
   "cell_type": "code",
   "execution_count": 97,
   "id": "4c133286",
   "metadata": {},
   "outputs": [
    {
     "data": {
      "text/html": [
       "<div>\n",
       "<style scoped>\n",
       "    .dataframe tbody tr th:only-of-type {\n",
       "        vertical-align: middle;\n",
       "    }\n",
       "\n",
       "    .dataframe tbody tr th {\n",
       "        vertical-align: top;\n",
       "    }\n",
       "\n",
       "    .dataframe thead th {\n",
       "        text-align: right;\n",
       "    }\n",
       "</style>\n",
       "<table border=\"1\" class=\"dataframe\">\n",
       "  <thead>\n",
       "    <tr style=\"text-align: right;\">\n",
       "      <th></th>\n",
       "      <th>Country</th>\n",
       "      <th>Unnamed: 1</th>\n",
       "      <th>Average height</th>\n",
       "      <th>Weight</th>\n",
       "      <th>BMI</th>\n",
       "    </tr>\n",
       "  </thead>\n",
       "  <tbody>\n",
       "    <tr>\n",
       "      <th>0</th>\n",
       "      <td>Netherlands</td>\n",
       "      <td>NaN</td>\n",
       "      <td>1.84 m</td>\n",
       "      <td>87.9 kg</td>\n",
       "      <td>26.1</td>\n",
       "    </tr>\n",
       "    <tr>\n",
       "      <th>1</th>\n",
       "      <td>Montenegro</td>\n",
       "      <td>NaN</td>\n",
       "      <td>1.83 m</td>\n",
       "      <td>90.4 kg</td>\n",
       "      <td>27.0</td>\n",
       "    </tr>\n",
       "    <tr>\n",
       "      <th>2</th>\n",
       "      <td>Estonia</td>\n",
       "      <td>NaN</td>\n",
       "      <td>1.82 m</td>\n",
       "      <td>89.9 kg</td>\n",
       "      <td>27.0</td>\n",
       "    </tr>\n",
       "    <tr>\n",
       "      <th>3</th>\n",
       "      <td>Denmark</td>\n",
       "      <td>NaN</td>\n",
       "      <td>1.82 m</td>\n",
       "      <td>86.8 kg</td>\n",
       "      <td>26.3</td>\n",
       "    </tr>\n",
       "    <tr>\n",
       "      <th>4</th>\n",
       "      <td>Bosnia and Herzegovina</td>\n",
       "      <td>NaN</td>\n",
       "      <td>1.82 m</td>\n",
       "      <td>87.1 kg</td>\n",
       "      <td>26.4</td>\n",
       "    </tr>\n",
       "    <tr>\n",
       "      <th>...</th>\n",
       "      <td>...</td>\n",
       "      <td>...</td>\n",
       "      <td>...</td>\n",
       "      <td>...</td>\n",
       "      <td>...</td>\n",
       "    </tr>\n",
       "    <tr>\n",
       "      <th>121</th>\n",
       "      <td>Nepal</td>\n",
       "      <td>NaN</td>\n",
       "      <td>1.64 m</td>\n",
       "      <td>60.5 kg</td>\n",
       "      <td>22.5</td>\n",
       "    </tr>\n",
       "    <tr>\n",
       "      <th>122</th>\n",
       "      <td>Guatemala</td>\n",
       "      <td>NaN</td>\n",
       "      <td>1.64 m</td>\n",
       "      <td>69.1 kg</td>\n",
       "      <td>25.7</td>\n",
       "    </tr>\n",
       "    <tr>\n",
       "      <th>123</th>\n",
       "      <td>Yemen</td>\n",
       "      <td>NaN</td>\n",
       "      <td>1.63 m</td>\n",
       "      <td>62.5 kg</td>\n",
       "      <td>23.6</td>\n",
       "    </tr>\n",
       "    <tr>\n",
       "      <th>124</th>\n",
       "      <td>Laos</td>\n",
       "      <td>NaN</td>\n",
       "      <td>1.62 m</td>\n",
       "      <td>59.5 kg</td>\n",
       "      <td>22.6</td>\n",
       "    </tr>\n",
       "    <tr>\n",
       "      <th>125</th>\n",
       "      <td>East Timor</td>\n",
       "      <td>NaN</td>\n",
       "      <td>1.59 m</td>\n",
       "      <td>53.9 kg</td>\n",
       "      <td>21.2</td>\n",
       "    </tr>\n",
       "  </tbody>\n",
       "</table>\n",
       "<p>126 rows × 5 columns</p>\n",
       "</div>"
      ],
      "text/plain": [
       "                    Country  Unnamed: 1 Average height   Weight   BMI\n",
       "0               Netherlands         NaN         1.84 m  87.9 kg  26.1\n",
       "1                Montenegro         NaN         1.83 m  90.4 kg  27.0\n",
       "2                   Estonia         NaN         1.82 m  89.9 kg  27.0\n",
       "3                   Denmark         NaN         1.82 m  86.8 kg  26.3\n",
       "4    Bosnia and Herzegovina         NaN         1.82 m  87.1 kg  26.4\n",
       "..                      ...         ...            ...      ...   ...\n",
       "121                   Nepal         NaN         1.64 m  60.5 kg  22.5\n",
       "122               Guatemala         NaN         1.64 m  69.1 kg  25.7\n",
       "123                   Yemen         NaN         1.63 m  62.5 kg  23.6\n",
       "124                    Laos         NaN         1.62 m  59.5 kg  22.6\n",
       "125              East Timor         NaN         1.59 m  53.9 kg  21.2\n",
       "\n",
       "[126 rows x 5 columns]"
      ]
     },
     "execution_count": 97,
     "metadata": {},
     "output_type": "execute_result"
    }
   ],
   "source": [
    "peso_alt"
   ]
  },
  {
   "cell_type": "code",
   "execution_count": 98,
   "id": "0348f324",
   "metadata": {},
   "outputs": [],
   "source": [
    "pais_altura = {}\n",
    "pais_peso = {}\n",
    "for i in range(len(peso_alt)):\n",
    "    pais_altura[peso_alt.iloc[i,0]] = peso_alt.iloc[i,2]\n",
    "    pais_peso[peso_alt.iloc[i,0]] = peso_alt.iloc[i,3]"
   ]
  },
  {
   "cell_type": "code",
   "execution_count": 99,
   "id": "0e7805ae",
   "metadata": {},
   "outputs": [],
   "source": [
    "dataresumo['altura_med_nacional'] = dataresumo['nacionalidade'].map(pais_altura)\n",
    "dataresumo['peso_med_nacional'] = dataresumo['nacionalidade'].map(pais_peso)"
   ]
  },
  {
   "cell_type": "code",
   "execution_count": 100,
   "id": "ada88bca",
   "metadata": {
    "scrolled": false
   },
   "outputs": [
    {
     "data": {
      "text/html": [
       "<div>\n",
       "<style scoped>\n",
       "    .dataframe tbody tr th:only-of-type {\n",
       "        vertical-align: middle;\n",
       "    }\n",
       "\n",
       "    .dataframe tbody tr th {\n",
       "        vertical-align: top;\n",
       "    }\n",
       "\n",
       "    .dataframe thead th {\n",
       "        text-align: right;\n",
       "    }\n",
       "</style>\n",
       "<table border=\"1\" class=\"dataframe\">\n",
       "  <thead>\n",
       "    <tr style=\"text-align: right;\">\n",
       "      <th></th>\n",
       "      <th>nome</th>\n",
       "      <th>altura</th>\n",
       "      <th>peso</th>\n",
       "      <th>altura_med_nacional</th>\n",
       "      <th>peso_med_nacional</th>\n",
       "    </tr>\n",
       "  </thead>\n",
       "  <tbody>\n",
       "    <tr>\n",
       "      <th>0</th>\n",
       "      <td>L. Messi</td>\n",
       "      <td>169</td>\n",
       "      <td>67</td>\n",
       "      <td>1.74 m</td>\n",
       "      <td>84.7 kg</td>\n",
       "    </tr>\n",
       "    <tr>\n",
       "      <th>1</th>\n",
       "      <td>Cristiano Ronaldo</td>\n",
       "      <td>185</td>\n",
       "      <td>80</td>\n",
       "      <td>1.74 m</td>\n",
       "      <td>79.5 kg</td>\n",
       "    </tr>\n",
       "    <tr>\n",
       "      <th>2</th>\n",
       "      <td>A. Robben</td>\n",
       "      <td>180</td>\n",
       "      <td>80</td>\n",
       "      <td>1.84 m</td>\n",
       "      <td>87.9 kg</td>\n",
       "    </tr>\n",
       "    <tr>\n",
       "      <th>3</th>\n",
       "      <td>Z. Ibrahimović</td>\n",
       "      <td>195</td>\n",
       "      <td>95</td>\n",
       "      <td>1.80 m</td>\n",
       "      <td>87.1 kg</td>\n",
       "    </tr>\n",
       "    <tr>\n",
       "      <th>4</th>\n",
       "      <td>M. Neuer</td>\n",
       "      <td>193</td>\n",
       "      <td>92</td>\n",
       "      <td>1.80 m</td>\n",
       "      <td>88.7 kg</td>\n",
       "    </tr>\n",
       "    <tr>\n",
       "      <th>...</th>\n",
       "      <td>...</td>\n",
       "      <td>...</td>\n",
       "      <td>...</td>\n",
       "      <td>...</td>\n",
       "      <td>...</td>\n",
       "    </tr>\n",
       "    <tr>\n",
       "      <th>16150</th>\n",
       "      <td>E. Redman</td>\n",
       "      <td>187</td>\n",
       "      <td>81</td>\n",
       "      <td>NaN</td>\n",
       "      <td>NaN</td>\n",
       "    </tr>\n",
       "    <tr>\n",
       "      <th>16151</th>\n",
       "      <td>A. Collins</td>\n",
       "      <td>178</td>\n",
       "      <td>57</td>\n",
       "      <td>NaN</td>\n",
       "      <td>NaN</td>\n",
       "    </tr>\n",
       "    <tr>\n",
       "      <th>16152</th>\n",
       "      <td>P. Żemło</td>\n",
       "      <td>190</td>\n",
       "      <td>76</td>\n",
       "      <td>1.80 m</td>\n",
       "      <td>89.0 kg</td>\n",
       "    </tr>\n",
       "    <tr>\n",
       "      <th>16153</th>\n",
       "      <td>T. Davies</td>\n",
       "      <td>180</td>\n",
       "      <td>70</td>\n",
       "      <td>NaN</td>\n",
       "      <td>NaN</td>\n",
       "    </tr>\n",
       "    <tr>\n",
       "      <th>16154</th>\n",
       "      <td>P. Tisdale</td>\n",
       "      <td>175</td>\n",
       "      <td>72</td>\n",
       "      <td>NaN</td>\n",
       "      <td>NaN</td>\n",
       "    </tr>\n",
       "  </tbody>\n",
       "</table>\n",
       "<p>16155 rows × 5 columns</p>\n",
       "</div>"
      ],
      "text/plain": [
       "                    nome  altura  peso altura_med_nacional peso_med_nacional\n",
       "0               L. Messi     169    67              1.74 m           84.7 kg\n",
       "1      Cristiano Ronaldo     185    80              1.74 m           79.5 kg\n",
       "2              A. Robben     180    80              1.84 m           87.9 kg\n",
       "3         Z. Ibrahimović     195    95              1.80 m           87.1 kg\n",
       "4               M. Neuer     193    92              1.80 m           88.7 kg\n",
       "...                  ...     ...   ...                 ...               ...\n",
       "16150          E. Redman     187    81                 NaN               NaN\n",
       "16151         A. Collins     178    57                 NaN               NaN\n",
       "16152           P. Żemło     190    76              1.80 m           89.0 kg\n",
       "16153          T. Davies     180    70                 NaN               NaN\n",
       "16154         P. Tisdale     175    72                 NaN               NaN\n",
       "\n",
       "[16155 rows x 5 columns]"
      ]
     },
     "execution_count": 100,
     "metadata": {},
     "output_type": "execute_result"
    }
   ],
   "source": [
    "dataresumo[['nome' , 'altura' , 'peso' , 'altura_med_nacional' , 'peso_med_nacional']]"
   ]
  },
  {
   "cell_type": "markdown",
   "id": "2930997e",
   "metadata": {},
   "source": [
    "Agora vamos transformar os valores de altura_med_nacional e peso_med_nacional em float, elimando o 'm' e o 'kg' com a função split, também iremos dropar as colunas faltantes"
   ]
  },
  {
   "cell_type": "code",
   "execution_count": null,
   "id": "6fde9819",
   "metadata": {},
   "outputs": [],
   "source": []
  },
  {
   "cell_type": "code",
   "execution_count": 101,
   "id": "282df17f",
   "metadata": {},
   "outputs": [],
   "source": [
    "dataresumo['altura_med_nacional'] = dataresumo['altura_med_nacional'].str.split(' ').str[0]\n",
    "dataresumo['peso_med_nacional'] = dataresumo['peso_med_nacional'].str.split(' ').str[0]"
   ]
  },
  {
   "cell_type": "code",
   "execution_count": 102,
   "id": "ca018cf4",
   "metadata": {},
   "outputs": [],
   "source": [
    "data_peso_alt = dataresumo[['nome' , 'altura' , 'peso' , 'altura_med_nacional' , 'peso_med_nacional']].copy()"
   ]
  },
  {
   "cell_type": "code",
   "execution_count": 103,
   "id": "1d03490f",
   "metadata": {},
   "outputs": [],
   "source": [
    "data_peso_alt = data_peso_alt.dropna()"
   ]
  },
  {
   "cell_type": "code",
   "execution_count": null,
   "id": "e719ee93",
   "metadata": {},
   "outputs": [],
   "source": []
  },
  {
   "cell_type": "markdown",
   "id": "1eae9c91",
   "metadata": {},
   "source": [
    "Agora iremos imprimir a média de altura dos jogadores e, em seguida, a média de altura da população em geral. Essa média de altura da população em geral faz sentido em termos comparativos, já que para cada jogador de cada nacionalidade haverá um valor de mesmo peso para a altura média dos homens daquela nacionalidade. Então, por exemplo, na média de altura dos jogadores entra o Messi com 169 cm e também um valor correspondente à altura média dos homens daquele país, no caso 174 cm, que corresponde à altura média do homem argentino."
   ]
  },
  {
   "cell_type": "code",
   "execution_count": null,
   "id": "065d3b55",
   "metadata": {},
   "outputs": [],
   "source": []
  },
  {
   "cell_type": "code",
   "execution_count": 104,
   "id": "1483b705",
   "metadata": {},
   "outputs": [
    {
     "name": "stdout",
     "output_type": "stream",
     "text": [
      "A média de altura dos jogadores por país é: 181.0111805327195\n"
     ]
    }
   ],
   "source": [
    "print('A média de altura dos jogadores por país é: ' + str(data_peso_alt['altura'].mean()))"
   ]
  },
  {
   "cell_type": "code",
   "execution_count": 105,
   "id": "5309251d",
   "metadata": {},
   "outputs": [],
   "source": [
    "data_peso_alt['altura_med_nacional'] = data_peso_alt['altura_med_nacional'].str.replace('.' , '').astype(int)"
   ]
  },
  {
   "cell_type": "code",
   "execution_count": 106,
   "id": "279ed278",
   "metadata": {},
   "outputs": [
    {
     "name": "stdout",
     "output_type": "stream",
     "text": [
      "A média de altura dos homens por país é: 176.21612956264386\n"
     ]
    }
   ],
   "source": [
    "data_peso_alt['altura_med_nacional'].mean()\n",
    "print('A média de altura dos homens por país é: ' + str(data_peso_alt['altura_med_nacional'].mean()))"
   ]
  },
  {
   "cell_type": "code",
   "execution_count": 107,
   "id": "8157eab1",
   "metadata": {},
   "outputs": [
    {
     "name": "stdout",
     "output_type": "stream",
     "text": [
      "A média de altura dos jogadores é : 4.79 cm mais alta\n"
     ]
    }
   ],
   "source": [
    "dif_alt = (data_peso_alt['altura'].mean() - data_peso_alt['altura_med_nacional'].mean())\n",
    "print('A média de altura dos jogadores é : ' + str(dif_alt)[:4] + ' cm mais alta')"
   ]
  },
  {
   "cell_type": "code",
   "execution_count": null,
   "id": "be0cd52e",
   "metadata": {},
   "outputs": [],
   "source": []
  },
  {
   "cell_type": "markdown",
   "id": "d6905b86",
   "metadata": {},
   "source": [
    "Foi constatado que, em média, os jogadores têm 4.79 centímetros a mais que a população em geral dos homens, o que corrobora com as hipóteses levantadas sobre as vantagens de ser mais alto."
   ]
  },
  {
   "cell_type": "code",
   "execution_count": null,
   "id": "b6965710",
   "metadata": {},
   "outputs": [],
   "source": []
  },
  {
   "cell_type": "markdown",
   "id": "5957060e",
   "metadata": {},
   "source": [
    "# Conclusão:\n",
    "\n",
    "Este trabalho serviu para demonstrar como manipular variáveis e dataframes para extrair informações. Primeiramente, foi realizada uma inspeção no número de variáveis do dataframe, verificando os dtypes e identificando os valores ausentes. Em seguida, utilizei as funções split para criar novas colunas com a data de nascimento de cada jogador e sua idade, e descobrimos que a maioria dos jogadores está concentrada entre 27 e 33 anos. Também, ao combinar as informações de um novo dataframe, pudemos plotar onde a maioria dos jogadores se concentra, tanto em termos de país quanto de continente. Finalmente, descobrimos que, em média, os jogadores são 5 cm mais altos do que a população em geral."
   ]
  },
  {
   "cell_type": "code",
   "execution_count": null,
   "id": "64c25ef2",
   "metadata": {},
   "outputs": [],
   "source": []
  }
 ],
 "metadata": {
  "kernelspec": {
   "display_name": "Python 3 (ipykernel)",
   "language": "python",
   "name": "python3"
  },
  "language_info": {
   "codemirror_mode": {
    "name": "ipython",
    "version": 3
   },
   "file_extension": ".py",
   "mimetype": "text/x-python",
   "name": "python",
   "nbconvert_exporter": "python",
   "pygments_lexer": "ipython3",
   "version": "3.11.5"
  }
 },
 "nbformat": 4,
 "nbformat_minor": 5
}
